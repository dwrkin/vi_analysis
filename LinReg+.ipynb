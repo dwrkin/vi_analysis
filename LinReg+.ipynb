{
 "cells": [
  {
   "cell_type": "code",
   "execution_count": 1,
   "metadata": {},
   "outputs": [],
   "source": [
    "import pandas as pd\n",
    "import seaborn as sns\n",
    "import numpy as np\n",
    "import matplotlib.pyplot as plt\n",
    "\n",
    "from sklearn.preprocessing import MinMaxScaler #нормализатор MinMax\n",
    "from sklearn.preprocessing import StandardScaler\n",
    "from sklearn.linear_model import LogisticRegression\n",
    "import statsmodels.api as sm\n",
    "from sklearn import metrics\n",
    "from sklearn.model_selection import train_test_split\n",
    "from sklearn.metrics import confusion_matrix\n",
    "from sklearn.metrics import roc_auc_score\n",
    "from sklearn.metrics import roc_curve\n",
    "from sklearn.metrics import classification_report"
   ]
  },
  {
   "cell_type": "markdown",
   "metadata": {},
   "source": [
    "# Все данные по приему 2019-2022"
   ]
  },
  {
   "cell_type": "code",
   "execution_count": 2,
   "metadata": {},
   "outputs": [],
   "source": [
    "raw_df_2019_2022 = pd.read_excel('data1.xlsx')\n",
    "df_2019_2022 = raw_df_2019_2022.copy()"
   ]
  },
  {
   "cell_type": "code",
   "execution_count": 3,
   "metadata": {},
   "outputs": [
    {
     "data": {
      "text/html": [
       "<div>\n",
       "<style scoped>\n",
       "    .dataframe tbody tr th:only-of-type {\n",
       "        vertical-align: middle;\n",
       "    }\n",
       "\n",
       "    .dataframe tbody tr th {\n",
       "        vertical-align: top;\n",
       "    }\n",
       "\n",
       "    .dataframe thead th {\n",
       "        text-align: right;\n",
       "    }\n",
       "</style>\n",
       "<table border=\"1\" class=\"dataframe\">\n",
       "  <thead>\n",
       "    <tr style=\"text-align: right;\">\n",
       "      <th></th>\n",
       "      <th>L_ID</th>\n",
       "      <th>B1</th>\n",
       "      <th>B1_T</th>\n",
       "      <th>B1_D</th>\n",
       "      <th>B2</th>\n",
       "      <th>B2_T</th>\n",
       "      <th>B2_D</th>\n",
       "      <th>B3</th>\n",
       "      <th>B3_T</th>\n",
       "      <th>B3_D</th>\n",
       "      <th>ИД</th>\n",
       "      <th>Балл</th>\n",
       "      <th>ЕГЭ</th>\n",
       "      <th>PK</th>\n",
       "      <th>Год</th>\n",
       "    </tr>\n",
       "  </thead>\n",
       "  <tbody>\n",
       "    <tr>\n",
       "      <th>0</th>\n",
       "      <td>527156</td>\n",
       "      <td>99</td>\n",
       "      <td>1</td>\n",
       "      <td>354</td>\n",
       "      <td>96</td>\n",
       "      <td>1</td>\n",
       "      <td>1612</td>\n",
       "      <td>98</td>\n",
       "      <td>1</td>\n",
       "      <td>254</td>\n",
       "      <td>10.0</td>\n",
       "      <td>303</td>\n",
       "      <td>293.0</td>\n",
       "      <td>33</td>\n",
       "      <td>2020</td>\n",
       "    </tr>\n",
       "    <tr>\n",
       "      <th>1</th>\n",
       "      <td>568750</td>\n",
       "      <td>91</td>\n",
       "      <td>1</td>\n",
       "      <td>354</td>\n",
       "      <td>100</td>\n",
       "      <td>1</td>\n",
       "      <td>1612</td>\n",
       "      <td>98</td>\n",
       "      <td>1</td>\n",
       "      <td>254</td>\n",
       "      <td>10.0</td>\n",
       "      <td>299</td>\n",
       "      <td>289.0</td>\n",
       "      <td>33</td>\n",
       "      <td>2020</td>\n",
       "    </tr>\n",
       "    <tr>\n",
       "      <th>2</th>\n",
       "      <td>572926</td>\n",
       "      <td>99</td>\n",
       "      <td>1</td>\n",
       "      <td>354</td>\n",
       "      <td>92</td>\n",
       "      <td>1</td>\n",
       "      <td>1612</td>\n",
       "      <td>96</td>\n",
       "      <td>1</td>\n",
       "      <td>254</td>\n",
       "      <td>10.0</td>\n",
       "      <td>297</td>\n",
       "      <td>287.0</td>\n",
       "      <td>33</td>\n",
       "      <td>2020</td>\n",
       "    </tr>\n",
       "    <tr>\n",
       "      <th>3</th>\n",
       "      <td>551516</td>\n",
       "      <td>98</td>\n",
       "      <td>14</td>\n",
       "      <td>354</td>\n",
       "      <td>100</td>\n",
       "      <td>14</td>\n",
       "      <td>1612</td>\n",
       "      <td>97</td>\n",
       "      <td>14</td>\n",
       "      <td>254</td>\n",
       "      <td>NaN</td>\n",
       "      <td>295</td>\n",
       "      <td>NaN</td>\n",
       "      <td>9</td>\n",
       "      <td>2020</td>\n",
       "    </tr>\n",
       "    <tr>\n",
       "      <th>4</th>\n",
       "      <td>568369</td>\n",
       "      <td>97</td>\n",
       "      <td>1</td>\n",
       "      <td>354</td>\n",
       "      <td>100</td>\n",
       "      <td>1</td>\n",
       "      <td>1612</td>\n",
       "      <td>98</td>\n",
       "      <td>1</td>\n",
       "      <td>254</td>\n",
       "      <td>NaN</td>\n",
       "      <td>295</td>\n",
       "      <td>295.0</td>\n",
       "      <td>33</td>\n",
       "      <td>2020</td>\n",
       "    </tr>\n",
       "  </tbody>\n",
       "</table>\n",
       "</div>"
      ],
      "text/plain": [
       "     L_ID  B1  B1_T  B1_D   B2  B2_T  B2_D  B3  B3_T  B3_D    ИД  Балл    ЕГЭ  \\\n",
       "0  527156  99     1   354   96     1  1612  98     1   254  10.0   303  293.0   \n",
       "1  568750  91     1   354  100     1  1612  98     1   254  10.0   299  289.0   \n",
       "2  572926  99     1   354   92     1  1612  96     1   254  10.0   297  287.0   \n",
       "3  551516  98    14   354  100    14  1612  97    14   254   NaN   295    NaN   \n",
       "4  568369  97     1   354  100     1  1612  98     1   254   NaN   295  295.0   \n",
       "\n",
       "   PK   Год  \n",
       "0  33  2020  \n",
       "1  33  2020  \n",
       "2  33  2020  \n",
       "3   9  2020  \n",
       "4  33  2020  "
      ]
     },
     "execution_count": 3,
     "metadata": {},
     "output_type": "execute_result"
    }
   ],
   "source": [
    "df_2019_2022.head()"
   ]
  },
  {
   "cell_type": "code",
   "execution_count": 4,
   "metadata": {},
   "outputs": [
    {
     "data": {
      "text/plain": [
       "(7299, 15)"
      ]
     },
     "execution_count": 4,
     "metadata": {},
     "output_type": "execute_result"
    }
   ],
   "source": [
    "df_2019_2022.shape"
   ]
  },
  {
   "cell_type": "code",
   "execution_count": 5,
   "metadata": {},
   "outputs": [
    {
     "data": {
      "text/plain": [
       "L_ID       0\n",
       "B1         0\n",
       "B1_T       0\n",
       "B1_D       0\n",
       "B2         0\n",
       "B2_T       0\n",
       "B2_D       0\n",
       "B3         0\n",
       "B3_T       0\n",
       "B3_D       0\n",
       "ИД      4237\n",
       "Балл       0\n",
       "ЕГЭ     2151\n",
       "PK         0\n",
       "Год        0\n",
       "dtype: int64"
      ]
     },
     "execution_count": 5,
     "metadata": {},
     "output_type": "execute_result"
    }
   ],
   "source": [
    "df_2019_2022.isnull().sum()"
   ]
  },
  {
   "cell_type": "code",
   "execution_count": 6,
   "metadata": {},
   "outputs": [],
   "source": [
    "df_2019_2022['ИД'] = df_2019_2022['ИД'].fillna(0)"
   ]
  },
  {
   "cell_type": "code",
   "execution_count": 7,
   "metadata": {},
   "outputs": [],
   "source": [
    "df_2019_2022['ЕГЭ'] = df_2019_2022['ЕГЭ'].fillna(0)"
   ]
  },
  {
   "cell_type": "code",
   "execution_count": 8,
   "metadata": {},
   "outputs": [
    {
     "data": {
      "text/plain": [
       "L_ID    0\n",
       "B1      0\n",
       "B1_T    0\n",
       "B1_D    0\n",
       "B2      0\n",
       "B2_T    0\n",
       "B2_D    0\n",
       "B3      0\n",
       "B3_T    0\n",
       "B3_D    0\n",
       "ИД      0\n",
       "Балл    0\n",
       "ЕГЭ     0\n",
       "PK      0\n",
       "Год     0\n",
       "dtype: int64"
      ]
     },
     "execution_count": 8,
     "metadata": {},
     "output_type": "execute_result"
    }
   ],
   "source": [
    "df_2019_2022.isnull().sum()"
   ]
  },
  {
   "cell_type": "code",
   "execution_count": 9,
   "metadata": {},
   "outputs": [
    {
     "data": {
      "text/html": [
       "<div>\n",
       "<style scoped>\n",
       "    .dataframe tbody tr th:only-of-type {\n",
       "        vertical-align: middle;\n",
       "    }\n",
       "\n",
       "    .dataframe tbody tr th {\n",
       "        vertical-align: top;\n",
       "    }\n",
       "\n",
       "    .dataframe thead th {\n",
       "        text-align: right;\n",
       "    }\n",
       "</style>\n",
       "<table border=\"1\" class=\"dataframe\">\n",
       "  <thead>\n",
       "    <tr style=\"text-align: right;\">\n",
       "      <th></th>\n",
       "      <th>L_ID</th>\n",
       "      <th>B1</th>\n",
       "      <th>B1_T</th>\n",
       "      <th>B1_D</th>\n",
       "      <th>B2</th>\n",
       "      <th>B2_T</th>\n",
       "      <th>B2_D</th>\n",
       "      <th>B3</th>\n",
       "      <th>B3_T</th>\n",
       "      <th>B3_D</th>\n",
       "      <th>ИД</th>\n",
       "      <th>Балл</th>\n",
       "      <th>ЕГЭ</th>\n",
       "      <th>PK</th>\n",
       "      <th>Год</th>\n",
       "    </tr>\n",
       "  </thead>\n",
       "  <tbody>\n",
       "    <tr>\n",
       "      <th>count</th>\n",
       "      <td>7299.000000</td>\n",
       "      <td>7299.000000</td>\n",
       "      <td>7299.00000</td>\n",
       "      <td>7299.000000</td>\n",
       "      <td>7299.000000</td>\n",
       "      <td>7299.000000</td>\n",
       "      <td>7299.000000</td>\n",
       "      <td>7299.000000</td>\n",
       "      <td>7299.000000</td>\n",
       "      <td>7299.0</td>\n",
       "      <td>7299.000000</td>\n",
       "      <td>7299.000000</td>\n",
       "      <td>7299.000000</td>\n",
       "      <td>7299.000000</td>\n",
       "      <td>7299.000000</td>\n",
       "    </tr>\n",
       "    <tr>\n",
       "      <th>mean</th>\n",
       "      <td>569183.064666</td>\n",
       "      <td>70.629401</td>\n",
       "      <td>12.56405</td>\n",
       "      <td>9686.828470</td>\n",
       "      <td>69.816413</td>\n",
       "      <td>11.412111</td>\n",
       "      <td>3795.821756</td>\n",
       "      <td>78.151391</td>\n",
       "      <td>13.272092</td>\n",
       "      <td>254.0</td>\n",
       "      <td>3.052473</td>\n",
       "      <td>221.649678</td>\n",
       "      <td>155.796410</td>\n",
       "      <td>9.154268</td>\n",
       "      <td>2020.675024</td>\n",
       "    </tr>\n",
       "    <tr>\n",
       "      <th>std</th>\n",
       "      <td>60971.081805</td>\n",
       "      <td>13.910849</td>\n",
       "      <td>24.91537</td>\n",
       "      <td>19017.164787</td>\n",
       "      <td>11.656039</td>\n",
       "      <td>23.455755</td>\n",
       "      <td>9945.152828</td>\n",
       "      <td>12.656625</td>\n",
       "      <td>26.159438</td>\n",
       "      <td>0.0</td>\n",
       "      <td>4.087541</td>\n",
       "      <td>31.285562</td>\n",
       "      <td>103.933759</td>\n",
       "      <td>4.881190</td>\n",
       "      <td>1.103766</td>\n",
       "    </tr>\n",
       "    <tr>\n",
       "      <th>min</th>\n",
       "      <td>61389.000000</td>\n",
       "      <td>39.000000</td>\n",
       "      <td>1.00000</td>\n",
       "      <td>354.000000</td>\n",
       "      <td>39.000000</td>\n",
       "      <td>1.000000</td>\n",
       "      <td>354.000000</td>\n",
       "      <td>40.000000</td>\n",
       "      <td>1.000000</td>\n",
       "      <td>254.0</td>\n",
       "      <td>0.000000</td>\n",
       "      <td>120.000000</td>\n",
       "      <td>0.000000</td>\n",
       "      <td>4.000000</td>\n",
       "      <td>2019.000000</td>\n",
       "    </tr>\n",
       "    <tr>\n",
       "      <th>25%</th>\n",
       "      <td>543206.500000</td>\n",
       "      <td>59.000000</td>\n",
       "      <td>1.00000</td>\n",
       "      <td>354.000000</td>\n",
       "      <td>62.000000</td>\n",
       "      <td>1.000000</td>\n",
       "      <td>1612.000000</td>\n",
       "      <td>70.000000</td>\n",
       "      <td>1.000000</td>\n",
       "      <td>254.0</td>\n",
       "      <td>0.000000</td>\n",
       "      <td>200.000000</td>\n",
       "      <td>0.000000</td>\n",
       "      <td>8.000000</td>\n",
       "      <td>2020.000000</td>\n",
       "    </tr>\n",
       "    <tr>\n",
       "      <th>50%</th>\n",
       "      <td>582263.000000</td>\n",
       "      <td>70.000000</td>\n",
       "      <td>1.00000</td>\n",
       "      <td>354.000000</td>\n",
       "      <td>72.000000</td>\n",
       "      <td>1.000000</td>\n",
       "      <td>1612.000000</td>\n",
       "      <td>80.000000</td>\n",
       "      <td>1.000000</td>\n",
       "      <td>254.0</td>\n",
       "      <td>0.000000</td>\n",
       "      <td>224.000000</td>\n",
       "      <td>205.000000</td>\n",
       "      <td>8.000000</td>\n",
       "      <td>2021.000000</td>\n",
       "    </tr>\n",
       "    <tr>\n",
       "      <th>75%</th>\n",
       "      <td>608876.000000</td>\n",
       "      <td>82.000000</td>\n",
       "      <td>14.00000</td>\n",
       "      <td>1612.000000</td>\n",
       "      <td>78.000000</td>\n",
       "      <td>14.000000</td>\n",
       "      <td>1612.000000</td>\n",
       "      <td>88.000000</td>\n",
       "      <td>14.000000</td>\n",
       "      <td>254.0</td>\n",
       "      <td>7.000000</td>\n",
       "      <td>246.000000</td>\n",
       "      <td>236.000000</td>\n",
       "      <td>8.000000</td>\n",
       "      <td>2022.000000</td>\n",
       "    </tr>\n",
       "    <tr>\n",
       "      <th>max</th>\n",
       "      <td>630785.000000</td>\n",
       "      <td>100.000000</td>\n",
       "      <td>84.00000</td>\n",
       "      <td>48924.000000</td>\n",
       "      <td>100.000000</td>\n",
       "      <td>84.000000</td>\n",
       "      <td>48923.000000</td>\n",
       "      <td>100.000000</td>\n",
       "      <td>84.000000</td>\n",
       "      <td>254.0</td>\n",
       "      <td>10.000000</td>\n",
       "      <td>303.000000</td>\n",
       "      <td>295.000000</td>\n",
       "      <td>33.000000</td>\n",
       "      <td>2022.000000</td>\n",
       "    </tr>\n",
       "  </tbody>\n",
       "</table>\n",
       "</div>"
      ],
      "text/plain": [
       "                L_ID           B1        B1_T          B1_D           B2  \\\n",
       "count    7299.000000  7299.000000  7299.00000   7299.000000  7299.000000   \n",
       "mean   569183.064666    70.629401    12.56405   9686.828470    69.816413   \n",
       "std     60971.081805    13.910849    24.91537  19017.164787    11.656039   \n",
       "min     61389.000000    39.000000     1.00000    354.000000    39.000000   \n",
       "25%    543206.500000    59.000000     1.00000    354.000000    62.000000   \n",
       "50%    582263.000000    70.000000     1.00000    354.000000    72.000000   \n",
       "75%    608876.000000    82.000000    14.00000   1612.000000    78.000000   \n",
       "max    630785.000000   100.000000    84.00000  48924.000000   100.000000   \n",
       "\n",
       "              B2_T          B2_D           B3         B3_T    B3_D  \\\n",
       "count  7299.000000   7299.000000  7299.000000  7299.000000  7299.0   \n",
       "mean     11.412111   3795.821756    78.151391    13.272092   254.0   \n",
       "std      23.455755   9945.152828    12.656625    26.159438     0.0   \n",
       "min       1.000000    354.000000    40.000000     1.000000   254.0   \n",
       "25%       1.000000   1612.000000    70.000000     1.000000   254.0   \n",
       "50%       1.000000   1612.000000    80.000000     1.000000   254.0   \n",
       "75%      14.000000   1612.000000    88.000000    14.000000   254.0   \n",
       "max      84.000000  48923.000000   100.000000    84.000000   254.0   \n",
       "\n",
       "                ИД         Балл          ЕГЭ           PK          Год  \n",
       "count  7299.000000  7299.000000  7299.000000  7299.000000  7299.000000  \n",
       "mean      3.052473   221.649678   155.796410     9.154268  2020.675024  \n",
       "std       4.087541    31.285562   103.933759     4.881190     1.103766  \n",
       "min       0.000000   120.000000     0.000000     4.000000  2019.000000  \n",
       "25%       0.000000   200.000000     0.000000     8.000000  2020.000000  \n",
       "50%       0.000000   224.000000   205.000000     8.000000  2021.000000  \n",
       "75%       7.000000   246.000000   236.000000     8.000000  2022.000000  \n",
       "max      10.000000   303.000000   295.000000    33.000000  2022.000000  "
      ]
     },
     "execution_count": 9,
     "metadata": {},
     "output_type": "execute_result"
    }
   ],
   "source": [
    "df_2019_2022.describe()"
   ]
  },
  {
   "cell_type": "code",
   "execution_count": 10,
   "metadata": {},
   "outputs": [],
   "source": [
    "df_2019_2022.drop(columns=['B1_T', 'B1_D', 'B2_T', 'B2_D', 'B3_T', 'B3_D', 'ЕГЭ', 'PK', 'ИД'], inplace=True)"
   ]
  },
  {
   "cell_type": "code",
   "execution_count": 11,
   "metadata": {},
   "outputs": [],
   "source": [
    "df_2019_2022.set_index('L_ID', inplace=True)"
   ]
  },
  {
   "cell_type": "code",
   "execution_count": 12,
   "metadata": {
    "scrolled": true
   },
   "outputs": [
    {
     "data": {
      "text/html": [
       "<div>\n",
       "<style scoped>\n",
       "    .dataframe tbody tr th:only-of-type {\n",
       "        vertical-align: middle;\n",
       "    }\n",
       "\n",
       "    .dataframe tbody tr th {\n",
       "        vertical-align: top;\n",
       "    }\n",
       "\n",
       "    .dataframe thead th {\n",
       "        text-align: right;\n",
       "    }\n",
       "</style>\n",
       "<table border=\"1\" class=\"dataframe\">\n",
       "  <thead>\n",
       "    <tr style=\"text-align: right;\">\n",
       "      <th></th>\n",
       "      <th>B1</th>\n",
       "      <th>B2</th>\n",
       "      <th>B3</th>\n",
       "      <th>Балл</th>\n",
       "      <th>Год</th>\n",
       "    </tr>\n",
       "    <tr>\n",
       "      <th>L_ID</th>\n",
       "      <th></th>\n",
       "      <th></th>\n",
       "      <th></th>\n",
       "      <th></th>\n",
       "      <th></th>\n",
       "    </tr>\n",
       "  </thead>\n",
       "  <tbody>\n",
       "    <tr>\n",
       "      <th>527156</th>\n",
       "      <td>99</td>\n",
       "      <td>96</td>\n",
       "      <td>98</td>\n",
       "      <td>303</td>\n",
       "      <td>2020</td>\n",
       "    </tr>\n",
       "    <tr>\n",
       "      <th>568750</th>\n",
       "      <td>91</td>\n",
       "      <td>100</td>\n",
       "      <td>98</td>\n",
       "      <td>299</td>\n",
       "      <td>2020</td>\n",
       "    </tr>\n",
       "    <tr>\n",
       "      <th>572926</th>\n",
       "      <td>99</td>\n",
       "      <td>92</td>\n",
       "      <td>96</td>\n",
       "      <td>297</td>\n",
       "      <td>2020</td>\n",
       "    </tr>\n",
       "    <tr>\n",
       "      <th>551516</th>\n",
       "      <td>98</td>\n",
       "      <td>100</td>\n",
       "      <td>97</td>\n",
       "      <td>295</td>\n",
       "      <td>2020</td>\n",
       "    </tr>\n",
       "    <tr>\n",
       "      <th>568369</th>\n",
       "      <td>97</td>\n",
       "      <td>100</td>\n",
       "      <td>98</td>\n",
       "      <td>295</td>\n",
       "      <td>2020</td>\n",
       "    </tr>\n",
       "    <tr>\n",
       "      <th>...</th>\n",
       "      <td>...</td>\n",
       "      <td>...</td>\n",
       "      <td>...</td>\n",
       "      <td>...</td>\n",
       "      <td>...</td>\n",
       "    </tr>\n",
       "    <tr>\n",
       "      <th>611879</th>\n",
       "      <td>44</td>\n",
       "      <td>43</td>\n",
       "      <td>42</td>\n",
       "      <td>129</td>\n",
       "      <td>2022</td>\n",
       "    </tr>\n",
       "    <tr>\n",
       "      <th>615131</th>\n",
       "      <td>45</td>\n",
       "      <td>39</td>\n",
       "      <td>42</td>\n",
       "      <td>126</td>\n",
       "      <td>2022</td>\n",
       "    </tr>\n",
       "    <tr>\n",
       "      <th>629255</th>\n",
       "      <td>45</td>\n",
       "      <td>39</td>\n",
       "      <td>42</td>\n",
       "      <td>126</td>\n",
       "      <td>2022</td>\n",
       "    </tr>\n",
       "    <tr>\n",
       "      <th>629319</th>\n",
       "      <td>45</td>\n",
       "      <td>39</td>\n",
       "      <td>42</td>\n",
       "      <td>126</td>\n",
       "      <td>2022</td>\n",
       "    </tr>\n",
       "    <tr>\n",
       "      <th>629198</th>\n",
       "      <td>39</td>\n",
       "      <td>39</td>\n",
       "      <td>42</td>\n",
       "      <td>120</td>\n",
       "      <td>2022</td>\n",
       "    </tr>\n",
       "  </tbody>\n",
       "</table>\n",
       "<p>7299 rows × 5 columns</p>\n",
       "</div>"
      ],
      "text/plain": [
       "        B1   B2  B3  Балл   Год\n",
       "L_ID                           \n",
       "527156  99   96  98   303  2020\n",
       "568750  91  100  98   299  2020\n",
       "572926  99   92  96   297  2020\n",
       "551516  98  100  97   295  2020\n",
       "568369  97  100  98   295  2020\n",
       "...     ..  ...  ..   ...   ...\n",
       "611879  44   43  42   129  2022\n",
       "615131  45   39  42   126  2022\n",
       "629255  45   39  42   126  2022\n",
       "629319  45   39  42   126  2022\n",
       "629198  39   39  42   120  2022\n",
       "\n",
       "[7299 rows x 5 columns]"
      ]
     },
     "execution_count": 12,
     "metadata": {},
     "output_type": "execute_result"
    }
   ],
   "source": [
    "df_2019_2022"
   ]
  },
  {
   "cell_type": "markdown",
   "metadata": {},
   "source": [
    "# Все данные по приему 2017, 2018"
   ]
  },
  {
   "cell_type": "code",
   "execution_count": 13,
   "metadata": {},
   "outputs": [],
   "source": [
    "raw_df_2017 = pd.read_excel('z123_2017.xlsx')\n",
    "raw_df_2018 = pd.read_excel('z123_2018.xlsx')\n",
    "df_2017 = raw_df_2017.copy()\n",
    "df_2017['Год'] = 2017\n",
    "df_2018 = raw_df_2018.copy()\n",
    "df_2018['Год'] = 2018"
   ]
  },
  {
   "cell_type": "code",
   "execution_count": 14,
   "metadata": {},
   "outputs": [
    {
     "data": {
      "text/html": [
       "<div>\n",
       "<style scoped>\n",
       "    .dataframe tbody tr th:only-of-type {\n",
       "        vertical-align: middle;\n",
       "    }\n",
       "\n",
       "    .dataframe tbody tr th {\n",
       "        vertical-align: top;\n",
       "    }\n",
       "\n",
       "    .dataframe thead th {\n",
       "        text-align: right;\n",
       "    }\n",
       "</style>\n",
       "<table border=\"1\" class=\"dataframe\">\n",
       "  <thead>\n",
       "    <tr style=\"text-align: right;\">\n",
       "      <th></th>\n",
       "      <th>lichn_id</th>\n",
       "      <th>f_id</th>\n",
       "      <th>forma_ob</th>\n",
       "      <th>perk_id</th>\n",
       "      <th>kateg</th>\n",
       "      <th>di1</th>\n",
       "      <th>dis1</th>\n",
       "      <th>oc1</th>\n",
       "      <th>ist1</th>\n",
       "      <th>tip1</th>\n",
       "      <th>...</th>\n",
       "      <th>dis2</th>\n",
       "      <th>oc2</th>\n",
       "      <th>ist2</th>\n",
       "      <th>tip2</th>\n",
       "      <th>di3</th>\n",
       "      <th>dis3</th>\n",
       "      <th>oc3</th>\n",
       "      <th>ist3</th>\n",
       "      <th>tip3</th>\n",
       "      <th>Год</th>\n",
       "    </tr>\n",
       "  </thead>\n",
       "  <tbody>\n",
       "    <tr>\n",
       "      <th>0</th>\n",
       "      <td>493968</td>\n",
       "      <td>1</td>\n",
       "      <td>очная</td>\n",
       "      <td>9</td>\n",
       "      <td>Дог.</td>\n",
       "      <td>2.0</td>\n",
       "      <td>Физ.</td>\n",
       "      <td>62</td>\n",
       "      <td>4</td>\n",
       "      <td>Э+</td>\n",
       "      <td>...</td>\n",
       "      <td>Мат.</td>\n",
       "      <td>55</td>\n",
       "      <td>4</td>\n",
       "      <td>Э+</td>\n",
       "      <td>4.0</td>\n",
       "      <td>Р.яз.</td>\n",
       "      <td>56</td>\n",
       "      <td>4</td>\n",
       "      <td>Э+</td>\n",
       "      <td>2017</td>\n",
       "    </tr>\n",
       "    <tr>\n",
       "      <th>1</th>\n",
       "      <td>456088</td>\n",
       "      <td>1</td>\n",
       "      <td>очная</td>\n",
       "      <td>8</td>\n",
       "      <td>Оо</td>\n",
       "      <td>3.0</td>\n",
       "      <td>Хим.</td>\n",
       "      <td>71</td>\n",
       "      <td>13</td>\n",
       "      <td>Э-</td>\n",
       "      <td>...</td>\n",
       "      <td>Мат.</td>\n",
       "      <td>68</td>\n",
       "      <td>81</td>\n",
       "      <td>Оино</td>\n",
       "      <td>4.0</td>\n",
       "      <td>Р.яз.</td>\n",
       "      <td>82</td>\n",
       "      <td>81</td>\n",
       "      <td>Оино</td>\n",
       "      <td>2017</td>\n",
       "    </tr>\n",
       "    <tr>\n",
       "      <th>2</th>\n",
       "      <td>458515</td>\n",
       "      <td>1</td>\n",
       "      <td>очная</td>\n",
       "      <td>8</td>\n",
       "      <td>Оо</td>\n",
       "      <td>2.0</td>\n",
       "      <td>Физ.</td>\n",
       "      <td>78</td>\n",
       "      <td>13</td>\n",
       "      <td>Э-</td>\n",
       "      <td>...</td>\n",
       "      <td>Мат.</td>\n",
       "      <td>69</td>\n",
       "      <td>13</td>\n",
       "      <td>Э-</td>\n",
       "      <td>4.0</td>\n",
       "      <td>Р.яз.</td>\n",
       "      <td>69</td>\n",
       "      <td>13</td>\n",
       "      <td>Э-</td>\n",
       "      <td>2017</td>\n",
       "    </tr>\n",
       "    <tr>\n",
       "      <th>3</th>\n",
       "      <td>473989</td>\n",
       "      <td>1</td>\n",
       "      <td>очная</td>\n",
       "      <td>9</td>\n",
       "      <td>Дог.</td>\n",
       "      <td>2.0</td>\n",
       "      <td>Физ.</td>\n",
       "      <td>59</td>\n",
       "      <td>13</td>\n",
       "      <td>Э-</td>\n",
       "      <td>...</td>\n",
       "      <td>Мат.</td>\n",
       "      <td>66</td>\n",
       "      <td>13</td>\n",
       "      <td>Э-</td>\n",
       "      <td>4.0</td>\n",
       "      <td>Р.яз.</td>\n",
       "      <td>54</td>\n",
       "      <td>13</td>\n",
       "      <td>Э-</td>\n",
       "      <td>2017</td>\n",
       "    </tr>\n",
       "    <tr>\n",
       "      <th>4</th>\n",
       "      <td>456824</td>\n",
       "      <td>1</td>\n",
       "      <td>очная</td>\n",
       "      <td>8</td>\n",
       "      <td>Оо</td>\n",
       "      <td>2.0</td>\n",
       "      <td>Физ.</td>\n",
       "      <td>80</td>\n",
       "      <td>13</td>\n",
       "      <td>Э-</td>\n",
       "      <td>...</td>\n",
       "      <td>Мат.</td>\n",
       "      <td>88</td>\n",
       "      <td>81</td>\n",
       "      <td>Оино</td>\n",
       "      <td>4.0</td>\n",
       "      <td>Р.яз.</td>\n",
       "      <td>72</td>\n",
       "      <td>13</td>\n",
       "      <td>Э-</td>\n",
       "      <td>2017</td>\n",
       "    </tr>\n",
       "  </tbody>\n",
       "</table>\n",
       "<p>5 rows × 21 columns</p>\n",
       "</div>"
      ],
      "text/plain": [
       "   lichn_id  f_id forma_ob  perk_id kateg  di1  dis1  oc1  ist1 tip1  ...  \\\n",
       "0    493968     1    очная        9  Дог.  2.0  Физ.   62     4   Э+  ...   \n",
       "1    456088     1    очная        8    Оо  3.0  Хим.   71    13   Э-  ...   \n",
       "2    458515     1    очная        8    Оо  2.0  Физ.   78    13   Э-  ...   \n",
       "3    473989     1    очная        9  Дог.  2.0  Физ.   59    13   Э-  ...   \n",
       "4    456824     1    очная        8    Оо  2.0  Физ.   80    13   Э-  ...   \n",
       "\n",
       "   dis2 oc2  ist2  tip2  di3   dis3 oc3  ist3  tip3   Год  \n",
       "0  Мат.  55     4    Э+  4.0  Р.яз.  56     4    Э+  2017  \n",
       "1  Мат.  68    81  Оино  4.0  Р.яз.  82    81  Оино  2017  \n",
       "2  Мат.  69    13    Э-  4.0  Р.яз.  69    13    Э-  2017  \n",
       "3  Мат.  66    13    Э-  4.0  Р.яз.  54    13    Э-  2017  \n",
       "4  Мат.  88    81  Оино  4.0  Р.яз.  72    13    Э-  2017  \n",
       "\n",
       "[5 rows x 21 columns]"
      ]
     },
     "execution_count": 14,
     "metadata": {},
     "output_type": "execute_result"
    }
   ],
   "source": [
    "df_2017_2018 = pd.concat([df_2017, df_2018])\n",
    "df_2017_2018.head()"
   ]
  },
  {
   "cell_type": "code",
   "execution_count": 15,
   "metadata": {},
   "outputs": [],
   "source": [
    "df_2017_2018.drop(columns=['f_id', 'forma_ob', 'perk_id', 'kateg', 'di1', \n",
    "                           'dis1', 'ist1', 'tip1', 'di2', 'dis2', \n",
    "                           'ist2', 'tip2', 'di3', 'dis3', 'ist3', 'tip3' \n",
    "                           ], inplace=True)"
   ]
  },
  {
   "cell_type": "code",
   "execution_count": 16,
   "metadata": {},
   "outputs": [],
   "source": [
    "df_2017_2018['Балл'] = df_2017_2018['oc1'] + df_2017_2018['oc2'] + df_2017_2018['oc3']"
   ]
  },
  {
   "cell_type": "code",
   "execution_count": 17,
   "metadata": {},
   "outputs": [
    {
     "data": {
      "text/html": [
       "<div>\n",
       "<style scoped>\n",
       "    .dataframe tbody tr th:only-of-type {\n",
       "        vertical-align: middle;\n",
       "    }\n",
       "\n",
       "    .dataframe tbody tr th {\n",
       "        vertical-align: top;\n",
       "    }\n",
       "\n",
       "    .dataframe thead th {\n",
       "        text-align: right;\n",
       "    }\n",
       "</style>\n",
       "<table border=\"1\" class=\"dataframe\">\n",
       "  <thead>\n",
       "    <tr style=\"text-align: right;\">\n",
       "      <th></th>\n",
       "      <th>lichn_id</th>\n",
       "      <th>oc1</th>\n",
       "      <th>oc2</th>\n",
       "      <th>oc3</th>\n",
       "      <th>Год</th>\n",
       "      <th>Балл</th>\n",
       "    </tr>\n",
       "  </thead>\n",
       "  <tbody>\n",
       "    <tr>\n",
       "      <th>0</th>\n",
       "      <td>493968</td>\n",
       "      <td>62</td>\n",
       "      <td>55</td>\n",
       "      <td>56</td>\n",
       "      <td>2017</td>\n",
       "      <td>173</td>\n",
       "    </tr>\n",
       "    <tr>\n",
       "      <th>1</th>\n",
       "      <td>456088</td>\n",
       "      <td>71</td>\n",
       "      <td>68</td>\n",
       "      <td>82</td>\n",
       "      <td>2017</td>\n",
       "      <td>221</td>\n",
       "    </tr>\n",
       "    <tr>\n",
       "      <th>2</th>\n",
       "      <td>458515</td>\n",
       "      <td>78</td>\n",
       "      <td>69</td>\n",
       "      <td>69</td>\n",
       "      <td>2017</td>\n",
       "      <td>216</td>\n",
       "    </tr>\n",
       "    <tr>\n",
       "      <th>3</th>\n",
       "      <td>473989</td>\n",
       "      <td>59</td>\n",
       "      <td>66</td>\n",
       "      <td>54</td>\n",
       "      <td>2017</td>\n",
       "      <td>179</td>\n",
       "    </tr>\n",
       "    <tr>\n",
       "      <th>4</th>\n",
       "      <td>456824</td>\n",
       "      <td>80</td>\n",
       "      <td>88</td>\n",
       "      <td>72</td>\n",
       "      <td>2017</td>\n",
       "      <td>240</td>\n",
       "    </tr>\n",
       "    <tr>\n",
       "      <th>...</th>\n",
       "      <td>...</td>\n",
       "      <td>...</td>\n",
       "      <td>...</td>\n",
       "      <td>...</td>\n",
       "      <td>...</td>\n",
       "      <td>...</td>\n",
       "    </tr>\n",
       "    <tr>\n",
       "      <th>2077</th>\n",
       "      <td>517981</td>\n",
       "      <td>51</td>\n",
       "      <td>49</td>\n",
       "      <td>68</td>\n",
       "      <td>2018</td>\n",
       "      <td>168</td>\n",
       "    </tr>\n",
       "    <tr>\n",
       "      <th>2078</th>\n",
       "      <td>509191</td>\n",
       "      <td>51</td>\n",
       "      <td>78</td>\n",
       "      <td>69</td>\n",
       "      <td>2018</td>\n",
       "      <td>198</td>\n",
       "    </tr>\n",
       "    <tr>\n",
       "      <th>2079</th>\n",
       "      <td>516530</td>\n",
       "      <td>65</td>\n",
       "      <td>64</td>\n",
       "      <td>85</td>\n",
       "      <td>2018</td>\n",
       "      <td>214</td>\n",
       "    </tr>\n",
       "    <tr>\n",
       "      <th>2080</th>\n",
       "      <td>520397</td>\n",
       "      <td>69</td>\n",
       "      <td>47</td>\n",
       "      <td>59</td>\n",
       "      <td>2018</td>\n",
       "      <td>175</td>\n",
       "    </tr>\n",
       "    <tr>\n",
       "      <th>2081</th>\n",
       "      <td>289914</td>\n",
       "      <td>51</td>\n",
       "      <td>47</td>\n",
       "      <td>56</td>\n",
       "      <td>2018</td>\n",
       "      <td>154</td>\n",
       "    </tr>\n",
       "  </tbody>\n",
       "</table>\n",
       "<p>4620 rows × 6 columns</p>\n",
       "</div>"
      ],
      "text/plain": [
       "      lichn_id  oc1  oc2  oc3   Год  Балл\n",
       "0       493968   62   55   56  2017   173\n",
       "1       456088   71   68   82  2017   221\n",
       "2       458515   78   69   69  2017   216\n",
       "3       473989   59   66   54  2017   179\n",
       "4       456824   80   88   72  2017   240\n",
       "...        ...  ...  ...  ...   ...   ...\n",
       "2077    517981   51   49   68  2018   168\n",
       "2078    509191   51   78   69  2018   198\n",
       "2079    516530   65   64   85  2018   214\n",
       "2080    520397   69   47   59  2018   175\n",
       "2081    289914   51   47   56  2018   154\n",
       "\n",
       "[4620 rows x 6 columns]"
      ]
     },
     "execution_count": 17,
     "metadata": {},
     "output_type": "execute_result"
    }
   ],
   "source": [
    "df_2017_2018"
   ]
  },
  {
   "cell_type": "code",
   "execution_count": 18,
   "metadata": {},
   "outputs": [],
   "source": [
    "df_2017_2018 = df_2017_2018.rename(columns={'lichn_id': 'L_ID', 'oc1': 'B1', 'oc2': 'B2', 'oc3': 'B3'})"
   ]
  },
  {
   "cell_type": "code",
   "execution_count": 19,
   "metadata": {},
   "outputs": [
    {
     "data": {
      "text/html": [
       "<div>\n",
       "<style scoped>\n",
       "    .dataframe tbody tr th:only-of-type {\n",
       "        vertical-align: middle;\n",
       "    }\n",
       "\n",
       "    .dataframe tbody tr th {\n",
       "        vertical-align: top;\n",
       "    }\n",
       "\n",
       "    .dataframe thead th {\n",
       "        text-align: right;\n",
       "    }\n",
       "</style>\n",
       "<table border=\"1\" class=\"dataframe\">\n",
       "  <thead>\n",
       "    <tr style=\"text-align: right;\">\n",
       "      <th></th>\n",
       "      <th>L_ID</th>\n",
       "      <th>B1</th>\n",
       "      <th>B2</th>\n",
       "      <th>B3</th>\n",
       "      <th>Год</th>\n",
       "      <th>Балл</th>\n",
       "    </tr>\n",
       "  </thead>\n",
       "  <tbody>\n",
       "    <tr>\n",
       "      <th>0</th>\n",
       "      <td>493968</td>\n",
       "      <td>62</td>\n",
       "      <td>55</td>\n",
       "      <td>56</td>\n",
       "      <td>2017</td>\n",
       "      <td>173</td>\n",
       "    </tr>\n",
       "    <tr>\n",
       "      <th>1</th>\n",
       "      <td>456088</td>\n",
       "      <td>71</td>\n",
       "      <td>68</td>\n",
       "      <td>82</td>\n",
       "      <td>2017</td>\n",
       "      <td>221</td>\n",
       "    </tr>\n",
       "    <tr>\n",
       "      <th>2</th>\n",
       "      <td>458515</td>\n",
       "      <td>78</td>\n",
       "      <td>69</td>\n",
       "      <td>69</td>\n",
       "      <td>2017</td>\n",
       "      <td>216</td>\n",
       "    </tr>\n",
       "    <tr>\n",
       "      <th>3</th>\n",
       "      <td>473989</td>\n",
       "      <td>59</td>\n",
       "      <td>66</td>\n",
       "      <td>54</td>\n",
       "      <td>2017</td>\n",
       "      <td>179</td>\n",
       "    </tr>\n",
       "    <tr>\n",
       "      <th>4</th>\n",
       "      <td>456824</td>\n",
       "      <td>80</td>\n",
       "      <td>88</td>\n",
       "      <td>72</td>\n",
       "      <td>2017</td>\n",
       "      <td>240</td>\n",
       "    </tr>\n",
       "    <tr>\n",
       "      <th>...</th>\n",
       "      <td>...</td>\n",
       "      <td>...</td>\n",
       "      <td>...</td>\n",
       "      <td>...</td>\n",
       "      <td>...</td>\n",
       "      <td>...</td>\n",
       "    </tr>\n",
       "    <tr>\n",
       "      <th>2077</th>\n",
       "      <td>517981</td>\n",
       "      <td>51</td>\n",
       "      <td>49</td>\n",
       "      <td>68</td>\n",
       "      <td>2018</td>\n",
       "      <td>168</td>\n",
       "    </tr>\n",
       "    <tr>\n",
       "      <th>2078</th>\n",
       "      <td>509191</td>\n",
       "      <td>51</td>\n",
       "      <td>78</td>\n",
       "      <td>69</td>\n",
       "      <td>2018</td>\n",
       "      <td>198</td>\n",
       "    </tr>\n",
       "    <tr>\n",
       "      <th>2079</th>\n",
       "      <td>516530</td>\n",
       "      <td>65</td>\n",
       "      <td>64</td>\n",
       "      <td>85</td>\n",
       "      <td>2018</td>\n",
       "      <td>214</td>\n",
       "    </tr>\n",
       "    <tr>\n",
       "      <th>2080</th>\n",
       "      <td>520397</td>\n",
       "      <td>69</td>\n",
       "      <td>47</td>\n",
       "      <td>59</td>\n",
       "      <td>2018</td>\n",
       "      <td>175</td>\n",
       "    </tr>\n",
       "    <tr>\n",
       "      <th>2081</th>\n",
       "      <td>289914</td>\n",
       "      <td>51</td>\n",
       "      <td>47</td>\n",
       "      <td>56</td>\n",
       "      <td>2018</td>\n",
       "      <td>154</td>\n",
       "    </tr>\n",
       "  </tbody>\n",
       "</table>\n",
       "<p>4620 rows × 6 columns</p>\n",
       "</div>"
      ],
      "text/plain": [
       "        L_ID  B1  B2  B3   Год  Балл\n",
       "0     493968  62  55  56  2017   173\n",
       "1     456088  71  68  82  2017   221\n",
       "2     458515  78  69  69  2017   216\n",
       "3     473989  59  66  54  2017   179\n",
       "4     456824  80  88  72  2017   240\n",
       "...      ...  ..  ..  ..   ...   ...\n",
       "2077  517981  51  49  68  2018   168\n",
       "2078  509191  51  78  69  2018   198\n",
       "2079  516530  65  64  85  2018   214\n",
       "2080  520397  69  47  59  2018   175\n",
       "2081  289914  51  47  56  2018   154\n",
       "\n",
       "[4620 rows x 6 columns]"
      ]
     },
     "execution_count": 19,
     "metadata": {},
     "output_type": "execute_result"
    }
   ],
   "source": [
    "df_2017_2018"
   ]
  },
  {
   "cell_type": "code",
   "execution_count": 20,
   "metadata": {},
   "outputs": [],
   "source": [
    "df_2017_2018 = df_2017_2018[['L_ID', 'B1', 'B2', 'B3', 'Балл', 'Год']]"
   ]
  },
  {
   "cell_type": "code",
   "execution_count": 21,
   "metadata": {},
   "outputs": [],
   "source": [
    "df_2017_2018.set_index('L_ID', inplace=True)"
   ]
  },
  {
   "cell_type": "code",
   "execution_count": 22,
   "metadata": {},
   "outputs": [
    {
     "data": {
      "text/html": [
       "<div>\n",
       "<style scoped>\n",
       "    .dataframe tbody tr th:only-of-type {\n",
       "        vertical-align: middle;\n",
       "    }\n",
       "\n",
       "    .dataframe tbody tr th {\n",
       "        vertical-align: top;\n",
       "    }\n",
       "\n",
       "    .dataframe thead th {\n",
       "        text-align: right;\n",
       "    }\n",
       "</style>\n",
       "<table border=\"1\" class=\"dataframe\">\n",
       "  <thead>\n",
       "    <tr style=\"text-align: right;\">\n",
       "      <th></th>\n",
       "      <th>B1</th>\n",
       "      <th>B2</th>\n",
       "      <th>B3</th>\n",
       "      <th>Балл</th>\n",
       "      <th>Год</th>\n",
       "    </tr>\n",
       "    <tr>\n",
       "      <th>L_ID</th>\n",
       "      <th></th>\n",
       "      <th></th>\n",
       "      <th></th>\n",
       "      <th></th>\n",
       "      <th></th>\n",
       "    </tr>\n",
       "  </thead>\n",
       "  <tbody>\n",
       "    <tr>\n",
       "      <th>493968</th>\n",
       "      <td>62</td>\n",
       "      <td>55</td>\n",
       "      <td>56</td>\n",
       "      <td>173</td>\n",
       "      <td>2017</td>\n",
       "    </tr>\n",
       "    <tr>\n",
       "      <th>456088</th>\n",
       "      <td>71</td>\n",
       "      <td>68</td>\n",
       "      <td>82</td>\n",
       "      <td>221</td>\n",
       "      <td>2017</td>\n",
       "    </tr>\n",
       "    <tr>\n",
       "      <th>458515</th>\n",
       "      <td>78</td>\n",
       "      <td>69</td>\n",
       "      <td>69</td>\n",
       "      <td>216</td>\n",
       "      <td>2017</td>\n",
       "    </tr>\n",
       "    <tr>\n",
       "      <th>473989</th>\n",
       "      <td>59</td>\n",
       "      <td>66</td>\n",
       "      <td>54</td>\n",
       "      <td>179</td>\n",
       "      <td>2017</td>\n",
       "    </tr>\n",
       "    <tr>\n",
       "      <th>456824</th>\n",
       "      <td>80</td>\n",
       "      <td>88</td>\n",
       "      <td>72</td>\n",
       "      <td>240</td>\n",
       "      <td>2017</td>\n",
       "    </tr>\n",
       "    <tr>\n",
       "      <th>...</th>\n",
       "      <td>...</td>\n",
       "      <td>...</td>\n",
       "      <td>...</td>\n",
       "      <td>...</td>\n",
       "      <td>...</td>\n",
       "    </tr>\n",
       "    <tr>\n",
       "      <th>517981</th>\n",
       "      <td>51</td>\n",
       "      <td>49</td>\n",
       "      <td>68</td>\n",
       "      <td>168</td>\n",
       "      <td>2018</td>\n",
       "    </tr>\n",
       "    <tr>\n",
       "      <th>509191</th>\n",
       "      <td>51</td>\n",
       "      <td>78</td>\n",
       "      <td>69</td>\n",
       "      <td>198</td>\n",
       "      <td>2018</td>\n",
       "    </tr>\n",
       "    <tr>\n",
       "      <th>516530</th>\n",
       "      <td>65</td>\n",
       "      <td>64</td>\n",
       "      <td>85</td>\n",
       "      <td>214</td>\n",
       "      <td>2018</td>\n",
       "    </tr>\n",
       "    <tr>\n",
       "      <th>520397</th>\n",
       "      <td>69</td>\n",
       "      <td>47</td>\n",
       "      <td>59</td>\n",
       "      <td>175</td>\n",
       "      <td>2018</td>\n",
       "    </tr>\n",
       "    <tr>\n",
       "      <th>289914</th>\n",
       "      <td>51</td>\n",
       "      <td>47</td>\n",
       "      <td>56</td>\n",
       "      <td>154</td>\n",
       "      <td>2018</td>\n",
       "    </tr>\n",
       "  </tbody>\n",
       "</table>\n",
       "<p>4620 rows × 5 columns</p>\n",
       "</div>"
      ],
      "text/plain": [
       "        B1  B2  B3  Балл   Год\n",
       "L_ID                          \n",
       "493968  62  55  56   173  2017\n",
       "456088  71  68  82   221  2017\n",
       "458515  78  69  69   216  2017\n",
       "473989  59  66  54   179  2017\n",
       "456824  80  88  72   240  2017\n",
       "...     ..  ..  ..   ...   ...\n",
       "517981  51  49  68   168  2018\n",
       "509191  51  78  69   198  2018\n",
       "516530  65  64  85   214  2018\n",
       "520397  69  47  59   175  2018\n",
       "289914  51  47  56   154  2018\n",
       "\n",
       "[4620 rows x 5 columns]"
      ]
     },
     "execution_count": 22,
     "metadata": {},
     "output_type": "execute_result"
    }
   ],
   "source": [
    "df_2017_2018 "
   ]
  },
  {
   "cell_type": "code",
   "execution_count": 23,
   "metadata": {},
   "outputs": [],
   "source": [
    "df_2017_2018 = df_2017_2018[df_2017_2018['Балл'] > 100]"
   ]
  },
  {
   "cell_type": "code",
   "execution_count": 24,
   "metadata": {},
   "outputs": [
    {
     "data": {
      "text/html": [
       "<div>\n",
       "<style scoped>\n",
       "    .dataframe tbody tr th:only-of-type {\n",
       "        vertical-align: middle;\n",
       "    }\n",
       "\n",
       "    .dataframe tbody tr th {\n",
       "        vertical-align: top;\n",
       "    }\n",
       "\n",
       "    .dataframe thead th {\n",
       "        text-align: right;\n",
       "    }\n",
       "</style>\n",
       "<table border=\"1\" class=\"dataframe\">\n",
       "  <thead>\n",
       "    <tr style=\"text-align: right;\">\n",
       "      <th></th>\n",
       "      <th>B1</th>\n",
       "      <th>B2</th>\n",
       "      <th>B3</th>\n",
       "      <th>Балл</th>\n",
       "      <th>Год</th>\n",
       "    </tr>\n",
       "    <tr>\n",
       "      <th>L_ID</th>\n",
       "      <th></th>\n",
       "      <th></th>\n",
       "      <th></th>\n",
       "      <th></th>\n",
       "      <th></th>\n",
       "    </tr>\n",
       "  </thead>\n",
       "  <tbody>\n",
       "    <tr>\n",
       "      <th>493968</th>\n",
       "      <td>62</td>\n",
       "      <td>55</td>\n",
       "      <td>56</td>\n",
       "      <td>173</td>\n",
       "      <td>2017</td>\n",
       "    </tr>\n",
       "    <tr>\n",
       "      <th>456088</th>\n",
       "      <td>71</td>\n",
       "      <td>68</td>\n",
       "      <td>82</td>\n",
       "      <td>221</td>\n",
       "      <td>2017</td>\n",
       "    </tr>\n",
       "    <tr>\n",
       "      <th>458515</th>\n",
       "      <td>78</td>\n",
       "      <td>69</td>\n",
       "      <td>69</td>\n",
       "      <td>216</td>\n",
       "      <td>2017</td>\n",
       "    </tr>\n",
       "    <tr>\n",
       "      <th>473989</th>\n",
       "      <td>59</td>\n",
       "      <td>66</td>\n",
       "      <td>54</td>\n",
       "      <td>179</td>\n",
       "      <td>2017</td>\n",
       "    </tr>\n",
       "    <tr>\n",
       "      <th>456824</th>\n",
       "      <td>80</td>\n",
       "      <td>88</td>\n",
       "      <td>72</td>\n",
       "      <td>240</td>\n",
       "      <td>2017</td>\n",
       "    </tr>\n",
       "    <tr>\n",
       "      <th>...</th>\n",
       "      <td>...</td>\n",
       "      <td>...</td>\n",
       "      <td>...</td>\n",
       "      <td>...</td>\n",
       "      <td>...</td>\n",
       "    </tr>\n",
       "    <tr>\n",
       "      <th>517981</th>\n",
       "      <td>51</td>\n",
       "      <td>49</td>\n",
       "      <td>68</td>\n",
       "      <td>168</td>\n",
       "      <td>2018</td>\n",
       "    </tr>\n",
       "    <tr>\n",
       "      <th>509191</th>\n",
       "      <td>51</td>\n",
       "      <td>78</td>\n",
       "      <td>69</td>\n",
       "      <td>198</td>\n",
       "      <td>2018</td>\n",
       "    </tr>\n",
       "    <tr>\n",
       "      <th>516530</th>\n",
       "      <td>65</td>\n",
       "      <td>64</td>\n",
       "      <td>85</td>\n",
       "      <td>214</td>\n",
       "      <td>2018</td>\n",
       "    </tr>\n",
       "    <tr>\n",
       "      <th>520397</th>\n",
       "      <td>69</td>\n",
       "      <td>47</td>\n",
       "      <td>59</td>\n",
       "      <td>175</td>\n",
       "      <td>2018</td>\n",
       "    </tr>\n",
       "    <tr>\n",
       "      <th>289914</th>\n",
       "      <td>51</td>\n",
       "      <td>47</td>\n",
       "      <td>56</td>\n",
       "      <td>154</td>\n",
       "      <td>2018</td>\n",
       "    </tr>\n",
       "  </tbody>\n",
       "</table>\n",
       "<p>4580 rows × 5 columns</p>\n",
       "</div>"
      ],
      "text/plain": [
       "        B1  B2  B3  Балл   Год\n",
       "L_ID                          \n",
       "493968  62  55  56   173  2017\n",
       "456088  71  68  82   221  2017\n",
       "458515  78  69  69   216  2017\n",
       "473989  59  66  54   179  2017\n",
       "456824  80  88  72   240  2017\n",
       "...     ..  ..  ..   ...   ...\n",
       "517981  51  49  68   168  2018\n",
       "509191  51  78  69   198  2018\n",
       "516530  65  64  85   214  2018\n",
       "520397  69  47  59   175  2018\n",
       "289914  51  47  56   154  2018\n",
       "\n",
       "[4580 rows x 5 columns]"
      ]
     },
     "execution_count": 24,
     "metadata": {},
     "output_type": "execute_result"
    }
   ],
   "source": [
    "df_2017_2018 "
   ]
  },
  {
   "cell_type": "code",
   "execution_count": 25,
   "metadata": {},
   "outputs": [],
   "source": [
    "df = pd.concat([df_2019_2022, df_2017_2018])"
   ]
  },
  {
   "cell_type": "code",
   "execution_count": 26,
   "metadata": {},
   "outputs": [],
   "source": [
    "#df.to_csv('out.csv')"
   ]
  },
  {
   "cell_type": "markdown",
   "metadata": {},
   "source": [
    "# Прием Бакалавриат 2017-2019, ОФ"
   ]
  },
  {
   "cell_type": "code",
   "execution_count": 27,
   "metadata": {},
   "outputs": [],
   "source": [
    "raw_df_priem = pd.read_csv('data_priem.csv')\n",
    "df_priem = raw_df_priem.copy()"
   ]
  },
  {
   "cell_type": "code",
   "execution_count": 28,
   "metadata": {},
   "outputs": [
    {
     "data": {
      "text/html": [
       "<div>\n",
       "<style scoped>\n",
       "    .dataframe tbody tr th:only-of-type {\n",
       "        vertical-align: middle;\n",
       "    }\n",
       "\n",
       "    .dataframe tbody tr th {\n",
       "        vertical-align: top;\n",
       "    }\n",
       "\n",
       "    .dataframe thead th {\n",
       "        text-align: right;\n",
       "    }\n",
       "</style>\n",
       "<table border=\"1\" class=\"dataframe\">\n",
       "  <thead>\n",
       "    <tr style=\"text-align: right;\">\n",
       "      <th></th>\n",
       "      <th>LICHNOST_ID</th>\n",
       "      <th>GOD_END</th>\n",
       "    </tr>\n",
       "  </thead>\n",
       "  <tbody>\n",
       "    <tr>\n",
       "      <th>0</th>\n",
       "      <td>119368</td>\n",
       "      <td>2021</td>\n",
       "    </tr>\n",
       "    <tr>\n",
       "      <th>1</th>\n",
       "      <td>130817</td>\n",
       "      <td>2023</td>\n",
       "    </tr>\n",
       "    <tr>\n",
       "      <th>2</th>\n",
       "      <td>131500</td>\n",
       "      <td>2023</td>\n",
       "    </tr>\n",
       "    <tr>\n",
       "      <th>3</th>\n",
       "      <td>135217</td>\n",
       "      <td>2021</td>\n",
       "    </tr>\n",
       "    <tr>\n",
       "      <th>4</th>\n",
       "      <td>137663</td>\n",
       "      <td>2021</td>\n",
       "    </tr>\n",
       "    <tr>\n",
       "      <th>...</th>\n",
       "      <td>...</td>\n",
       "      <td>...</td>\n",
       "    </tr>\n",
       "    <tr>\n",
       "      <th>3774</th>\n",
       "      <td>547621</td>\n",
       "      <td>2023</td>\n",
       "    </tr>\n",
       "    <tr>\n",
       "      <th>3775</th>\n",
       "      <td>547639</td>\n",
       "      <td>2023</td>\n",
       "    </tr>\n",
       "    <tr>\n",
       "      <th>3776</th>\n",
       "      <td>547660</td>\n",
       "      <td>2023</td>\n",
       "    </tr>\n",
       "    <tr>\n",
       "      <th>3777</th>\n",
       "      <td>585764</td>\n",
       "      <td>2021</td>\n",
       "    </tr>\n",
       "    <tr>\n",
       "      <th>3778</th>\n",
       "      <td>608760</td>\n",
       "      <td>2022</td>\n",
       "    </tr>\n",
       "  </tbody>\n",
       "</table>\n",
       "<p>3779 rows × 2 columns</p>\n",
       "</div>"
      ],
      "text/plain": [
       "      LICHNOST_ID  GOD_END\n",
       "0          119368     2021\n",
       "1          130817     2023\n",
       "2          131500     2023\n",
       "3          135217     2021\n",
       "4          137663     2021\n",
       "...           ...      ...\n",
       "3774       547621     2023\n",
       "3775       547639     2023\n",
       "3776       547660     2023\n",
       "3777       585764     2021\n",
       "3778       608760     2022\n",
       "\n",
       "[3779 rows x 2 columns]"
      ]
     },
     "execution_count": 28,
     "metadata": {},
     "output_type": "execute_result"
    }
   ],
   "source": [
    "df_priem"
   ]
  },
  {
   "cell_type": "code",
   "execution_count": 29,
   "metadata": {},
   "outputs": [
    {
     "data": {
      "text/html": [
       "<div>\n",
       "<style scoped>\n",
       "    .dataframe tbody tr th:only-of-type {\n",
       "        vertical-align: middle;\n",
       "    }\n",
       "\n",
       "    .dataframe tbody tr th {\n",
       "        vertical-align: top;\n",
       "    }\n",
       "\n",
       "    .dataframe thead th {\n",
       "        text-align: right;\n",
       "    }\n",
       "</style>\n",
       "<table border=\"1\" class=\"dataframe\">\n",
       "  <thead>\n",
       "    <tr style=\"text-align: right;\">\n",
       "      <th></th>\n",
       "      <th>GOD_END</th>\n",
       "    </tr>\n",
       "    <tr>\n",
       "      <th>LICHNOST_ID</th>\n",
       "      <th></th>\n",
       "    </tr>\n",
       "  </thead>\n",
       "  <tbody>\n",
       "    <tr>\n",
       "      <th>119368</th>\n",
       "      <td>2021</td>\n",
       "    </tr>\n",
       "    <tr>\n",
       "      <th>130817</th>\n",
       "      <td>2023</td>\n",
       "    </tr>\n",
       "    <tr>\n",
       "      <th>131500</th>\n",
       "      <td>2023</td>\n",
       "    </tr>\n",
       "    <tr>\n",
       "      <th>135217</th>\n",
       "      <td>2021</td>\n",
       "    </tr>\n",
       "    <tr>\n",
       "      <th>137663</th>\n",
       "      <td>2021</td>\n",
       "    </tr>\n",
       "    <tr>\n",
       "      <th>...</th>\n",
       "      <td>...</td>\n",
       "    </tr>\n",
       "    <tr>\n",
       "      <th>547621</th>\n",
       "      <td>2023</td>\n",
       "    </tr>\n",
       "    <tr>\n",
       "      <th>547639</th>\n",
       "      <td>2023</td>\n",
       "    </tr>\n",
       "    <tr>\n",
       "      <th>547660</th>\n",
       "      <td>2023</td>\n",
       "    </tr>\n",
       "    <tr>\n",
       "      <th>585764</th>\n",
       "      <td>2021</td>\n",
       "    </tr>\n",
       "    <tr>\n",
       "      <th>608760</th>\n",
       "      <td>2022</td>\n",
       "    </tr>\n",
       "  </tbody>\n",
       "</table>\n",
       "<p>3779 rows × 1 columns</p>\n",
       "</div>"
      ],
      "text/plain": [
       "             GOD_END\n",
       "LICHNOST_ID         \n",
       "119368          2021\n",
       "130817          2023\n",
       "131500          2023\n",
       "135217          2021\n",
       "137663          2021\n",
       "...              ...\n",
       "547621          2023\n",
       "547639          2023\n",
       "547660          2023\n",
       "585764          2021\n",
       "608760          2022\n",
       "\n",
       "[3779 rows x 1 columns]"
      ]
     },
     "execution_count": 29,
     "metadata": {},
     "output_type": "execute_result"
    }
   ],
   "source": [
    "df_priem.set_index('LICHNOST_ID', inplace=True)\n",
    "df_priem"
   ]
  },
  {
   "cell_type": "markdown",
   "metadata": {},
   "source": [
    "# Выпуск 2021-2023, бакалавриат, ОФ"
   ]
  },
  {
   "cell_type": "code",
   "execution_count": 30,
   "metadata": {},
   "outputs": [],
   "source": [
    "raw_df_vipusk = pd.read_csv('data_vipusk.csv')\n",
    "df_vipusk = raw_df_vipusk.copy()"
   ]
  },
  {
   "cell_type": "code",
   "execution_count": 31,
   "metadata": {
    "scrolled": true
   },
   "outputs": [
    {
     "data": {
      "text/html": [
       "<div>\n",
       "<style scoped>\n",
       "    .dataframe tbody tr th:only-of-type {\n",
       "        vertical-align: middle;\n",
       "    }\n",
       "\n",
       "    .dataframe tbody tr th {\n",
       "        vertical-align: top;\n",
       "    }\n",
       "\n",
       "    .dataframe thead th {\n",
       "        text-align: right;\n",
       "    }\n",
       "</style>\n",
       "<table border=\"1\" class=\"dataframe\">\n",
       "  <thead>\n",
       "    <tr style=\"text-align: right;\">\n",
       "      <th></th>\n",
       "      <th>LICHNOST_ID</th>\n",
       "      <th>GOD_END</th>\n",
       "    </tr>\n",
       "  </thead>\n",
       "  <tbody>\n",
       "    <tr>\n",
       "      <th>0</th>\n",
       "      <td>114466</td>\n",
       "      <td>2021</td>\n",
       "    </tr>\n",
       "    <tr>\n",
       "      <th>1</th>\n",
       "      <td>131500</td>\n",
       "      <td>2023</td>\n",
       "    </tr>\n",
       "    <tr>\n",
       "      <th>2</th>\n",
       "      <td>133669</td>\n",
       "      <td>2022</td>\n",
       "    </tr>\n",
       "    <tr>\n",
       "      <th>3</th>\n",
       "      <td>135217</td>\n",
       "      <td>2021</td>\n",
       "    </tr>\n",
       "    <tr>\n",
       "      <th>4</th>\n",
       "      <td>137663</td>\n",
       "      <td>2021</td>\n",
       "    </tr>\n",
       "    <tr>\n",
       "      <th>...</th>\n",
       "      <td>...</td>\n",
       "      <td>...</td>\n",
       "    </tr>\n",
       "    <tr>\n",
       "      <th>2310</th>\n",
       "      <td>600162</td>\n",
       "      <td>2023</td>\n",
       "    </tr>\n",
       "    <tr>\n",
       "      <th>2311</th>\n",
       "      <td>600199</td>\n",
       "      <td>2023</td>\n",
       "    </tr>\n",
       "    <tr>\n",
       "      <th>2312</th>\n",
       "      <td>600218</td>\n",
       "      <td>2023</td>\n",
       "    </tr>\n",
       "    <tr>\n",
       "      <th>2313</th>\n",
       "      <td>600236</td>\n",
       "      <td>2023</td>\n",
       "    </tr>\n",
       "    <tr>\n",
       "      <th>2314</th>\n",
       "      <td>600241</td>\n",
       "      <td>2023</td>\n",
       "    </tr>\n",
       "  </tbody>\n",
       "</table>\n",
       "<p>2315 rows × 2 columns</p>\n",
       "</div>"
      ],
      "text/plain": [
       "      LICHNOST_ID  GOD_END\n",
       "0          114466     2021\n",
       "1          131500     2023\n",
       "2          133669     2022\n",
       "3          135217     2021\n",
       "4          137663     2021\n",
       "...           ...      ...\n",
       "2310       600162     2023\n",
       "2311       600199     2023\n",
       "2312       600218     2023\n",
       "2313       600236     2023\n",
       "2314       600241     2023\n",
       "\n",
       "[2315 rows x 2 columns]"
      ]
     },
     "execution_count": 31,
     "metadata": {},
     "output_type": "execute_result"
    }
   ],
   "source": [
    "df_vipusk"
   ]
  },
  {
   "cell_type": "code",
   "execution_count": 32,
   "metadata": {},
   "outputs": [],
   "source": [
    "df_vipusk.set_index('LICHNOST_ID', inplace=True)"
   ]
  },
  {
   "cell_type": "code",
   "execution_count": 33,
   "metadata": {},
   "outputs": [
    {
     "data": {
      "text/html": [
       "<div>\n",
       "<style scoped>\n",
       "    .dataframe tbody tr th:only-of-type {\n",
       "        vertical-align: middle;\n",
       "    }\n",
       "\n",
       "    .dataframe tbody tr th {\n",
       "        vertical-align: top;\n",
       "    }\n",
       "\n",
       "    .dataframe thead th {\n",
       "        text-align: right;\n",
       "    }\n",
       "</style>\n",
       "<table border=\"1\" class=\"dataframe\">\n",
       "  <thead>\n",
       "    <tr style=\"text-align: right;\">\n",
       "      <th></th>\n",
       "      <th>GOD_END</th>\n",
       "    </tr>\n",
       "    <tr>\n",
       "      <th>LICHNOST_ID</th>\n",
       "      <th></th>\n",
       "    </tr>\n",
       "  </thead>\n",
       "  <tbody>\n",
       "    <tr>\n",
       "      <th>114466</th>\n",
       "      <td>2021</td>\n",
       "    </tr>\n",
       "    <tr>\n",
       "      <th>131500</th>\n",
       "      <td>2023</td>\n",
       "    </tr>\n",
       "    <tr>\n",
       "      <th>133669</th>\n",
       "      <td>2022</td>\n",
       "    </tr>\n",
       "    <tr>\n",
       "      <th>135217</th>\n",
       "      <td>2021</td>\n",
       "    </tr>\n",
       "    <tr>\n",
       "      <th>137663</th>\n",
       "      <td>2021</td>\n",
       "    </tr>\n",
       "    <tr>\n",
       "      <th>...</th>\n",
       "      <td>...</td>\n",
       "    </tr>\n",
       "    <tr>\n",
       "      <th>600162</th>\n",
       "      <td>2023</td>\n",
       "    </tr>\n",
       "    <tr>\n",
       "      <th>600199</th>\n",
       "      <td>2023</td>\n",
       "    </tr>\n",
       "    <tr>\n",
       "      <th>600218</th>\n",
       "      <td>2023</td>\n",
       "    </tr>\n",
       "    <tr>\n",
       "      <th>600236</th>\n",
       "      <td>2023</td>\n",
       "    </tr>\n",
       "    <tr>\n",
       "      <th>600241</th>\n",
       "      <td>2023</td>\n",
       "    </tr>\n",
       "  </tbody>\n",
       "</table>\n",
       "<p>2315 rows × 1 columns</p>\n",
       "</div>"
      ],
      "text/plain": [
       "             GOD_END\n",
       "LICHNOST_ID         \n",
       "114466          2021\n",
       "131500          2023\n",
       "133669          2022\n",
       "135217          2021\n",
       "137663          2021\n",
       "...              ...\n",
       "600162          2023\n",
       "600199          2023\n",
       "600218          2023\n",
       "600236          2023\n",
       "600241          2023\n",
       "\n",
       "[2315 rows x 1 columns]"
      ]
     },
     "execution_count": 33,
     "metadata": {},
     "output_type": "execute_result"
    }
   ],
   "source": [
    "df_vipusk"
   ]
  },
  {
   "cell_type": "markdown",
   "metadata": {},
   "source": [
    "# Отсекаем баллы только бакалавриат 2017-2019 года приема, ОФ"
   ]
  },
  {
   "cell_type": "code",
   "execution_count": 34,
   "metadata": {},
   "outputs": [
    {
     "data": {
      "text/html": [
       "<div>\n",
       "<style scoped>\n",
       "    .dataframe tbody tr th:only-of-type {\n",
       "        vertical-align: middle;\n",
       "    }\n",
       "\n",
       "    .dataframe tbody tr th {\n",
       "        vertical-align: top;\n",
       "    }\n",
       "\n",
       "    .dataframe thead th {\n",
       "        text-align: right;\n",
       "    }\n",
       "</style>\n",
       "<table border=\"1\" class=\"dataframe\">\n",
       "  <thead>\n",
       "    <tr style=\"text-align: right;\">\n",
       "      <th></th>\n",
       "      <th>B1</th>\n",
       "      <th>B2</th>\n",
       "      <th>B3</th>\n",
       "      <th>Балл</th>\n",
       "      <th>Год</th>\n",
       "    </tr>\n",
       "  </thead>\n",
       "  <tbody>\n",
       "    <tr>\n",
       "      <th>119368</th>\n",
       "      <td>80</td>\n",
       "      <td>84</td>\n",
       "      <td>88</td>\n",
       "      <td>252</td>\n",
       "      <td>2017</td>\n",
       "    </tr>\n",
       "    <tr>\n",
       "      <th>130817</th>\n",
       "      <td>84</td>\n",
       "      <td>86</td>\n",
       "      <td>85</td>\n",
       "      <td>265</td>\n",
       "      <td>2019</td>\n",
       "    </tr>\n",
       "    <tr>\n",
       "      <th>131500</th>\n",
       "      <td>83</td>\n",
       "      <td>76</td>\n",
       "      <td>62</td>\n",
       "      <td>231</td>\n",
       "      <td>2019</td>\n",
       "    </tr>\n",
       "    <tr>\n",
       "      <th>135217</th>\n",
       "      <td>89</td>\n",
       "      <td>84</td>\n",
       "      <td>66</td>\n",
       "      <td>239</td>\n",
       "      <td>2017</td>\n",
       "    </tr>\n",
       "    <tr>\n",
       "      <th>137663</th>\n",
       "      <td>80</td>\n",
       "      <td>80</td>\n",
       "      <td>91</td>\n",
       "      <td>251</td>\n",
       "      <td>2017</td>\n",
       "    </tr>\n",
       "    <tr>\n",
       "      <th>...</th>\n",
       "      <td>...</td>\n",
       "      <td>...</td>\n",
       "      <td>...</td>\n",
       "      <td>...</td>\n",
       "      <td>...</td>\n",
       "    </tr>\n",
       "    <tr>\n",
       "      <th>545861</th>\n",
       "      <td>53</td>\n",
       "      <td>51</td>\n",
       "      <td>59</td>\n",
       "      <td>163</td>\n",
       "      <td>2019</td>\n",
       "    </tr>\n",
       "    <tr>\n",
       "      <th>545862</th>\n",
       "      <td>55</td>\n",
       "      <td>53</td>\n",
       "      <td>60</td>\n",
       "      <td>168</td>\n",
       "      <td>2019</td>\n",
       "    </tr>\n",
       "    <tr>\n",
       "      <th>545863</th>\n",
       "      <td>54</td>\n",
       "      <td>55</td>\n",
       "      <td>57</td>\n",
       "      <td>166</td>\n",
       "      <td>2019</td>\n",
       "    </tr>\n",
       "    <tr>\n",
       "      <th>545864</th>\n",
       "      <td>55</td>\n",
       "      <td>56</td>\n",
       "      <td>57</td>\n",
       "      <td>168</td>\n",
       "      <td>2019</td>\n",
       "    </tr>\n",
       "    <tr>\n",
       "      <th>545865</th>\n",
       "      <td>54</td>\n",
       "      <td>53</td>\n",
       "      <td>61</td>\n",
       "      <td>168</td>\n",
       "      <td>2019</td>\n",
       "    </tr>\n",
       "  </tbody>\n",
       "</table>\n",
       "<p>3805 rows × 5 columns</p>\n",
       "</div>"
      ],
      "text/plain": [
       "        B1  B2  B3  Балл   Год\n",
       "119368  80  84  88   252  2017\n",
       "130817  84  86  85   265  2019\n",
       "131500  83  76  62   231  2019\n",
       "135217  89  84  66   239  2017\n",
       "137663  80  80  91   251  2017\n",
       "...     ..  ..  ..   ...   ...\n",
       "545861  53  51  59   163  2019\n",
       "545862  55  53  60   168  2019\n",
       "545863  54  55  57   166  2019\n",
       "545864  55  56  57   168  2019\n",
       "545865  54  53  61   168  2019\n",
       "\n",
       "[3805 rows x 5 columns]"
      ]
     },
     "execution_count": 34,
     "metadata": {},
     "output_type": "execute_result"
    }
   ],
   "source": [
    "priem_ball = df.join(df_priem, how='inner')\n",
    "priem_ball.drop(columns=['GOD_END'], inplace=True)\n",
    "priem_ball"
   ]
  },
  {
   "cell_type": "markdown",
   "metadata": {},
   "source": [
    "# Смотрим баллы, кто закончил бакалавриат 2019 года приема, ОФ"
   ]
  },
  {
   "cell_type": "code",
   "execution_count": 35,
   "metadata": {},
   "outputs": [
    {
     "data": {
      "text/html": [
       "<div>\n",
       "<style scoped>\n",
       "    .dataframe tbody tr th:only-of-type {\n",
       "        vertical-align: middle;\n",
       "    }\n",
       "\n",
       "    .dataframe tbody tr th {\n",
       "        vertical-align: top;\n",
       "    }\n",
       "\n",
       "    .dataframe thead th {\n",
       "        text-align: right;\n",
       "    }\n",
       "</style>\n",
       "<table border=\"1\" class=\"dataframe\">\n",
       "  <thead>\n",
       "    <tr style=\"text-align: right;\">\n",
       "      <th></th>\n",
       "      <th>B1</th>\n",
       "      <th>B2</th>\n",
       "      <th>B3</th>\n",
       "      <th>Балл</th>\n",
       "      <th>Год</th>\n",
       "      <th>GOD_END</th>\n",
       "    </tr>\n",
       "  </thead>\n",
       "  <tbody>\n",
       "    <tr>\n",
       "      <th>119368</th>\n",
       "      <td>80</td>\n",
       "      <td>84</td>\n",
       "      <td>88</td>\n",
       "      <td>252</td>\n",
       "      <td>2017</td>\n",
       "      <td>NaN</td>\n",
       "    </tr>\n",
       "    <tr>\n",
       "      <th>130817</th>\n",
       "      <td>84</td>\n",
       "      <td>86</td>\n",
       "      <td>85</td>\n",
       "      <td>265</td>\n",
       "      <td>2019</td>\n",
       "      <td>NaN</td>\n",
       "    </tr>\n",
       "    <tr>\n",
       "      <th>131500</th>\n",
       "      <td>83</td>\n",
       "      <td>76</td>\n",
       "      <td>62</td>\n",
       "      <td>231</td>\n",
       "      <td>2019</td>\n",
       "      <td>2023.0</td>\n",
       "    </tr>\n",
       "    <tr>\n",
       "      <th>135217</th>\n",
       "      <td>89</td>\n",
       "      <td>84</td>\n",
       "      <td>66</td>\n",
       "      <td>239</td>\n",
       "      <td>2017</td>\n",
       "      <td>2021.0</td>\n",
       "    </tr>\n",
       "    <tr>\n",
       "      <th>137663</th>\n",
       "      <td>80</td>\n",
       "      <td>80</td>\n",
       "      <td>91</td>\n",
       "      <td>251</td>\n",
       "      <td>2017</td>\n",
       "      <td>2021.0</td>\n",
       "    </tr>\n",
       "    <tr>\n",
       "      <th>...</th>\n",
       "      <td>...</td>\n",
       "      <td>...</td>\n",
       "      <td>...</td>\n",
       "      <td>...</td>\n",
       "      <td>...</td>\n",
       "      <td>...</td>\n",
       "    </tr>\n",
       "    <tr>\n",
       "      <th>545861</th>\n",
       "      <td>53</td>\n",
       "      <td>51</td>\n",
       "      <td>59</td>\n",
       "      <td>163</td>\n",
       "      <td>2019</td>\n",
       "      <td>2021.0</td>\n",
       "    </tr>\n",
       "    <tr>\n",
       "      <th>545862</th>\n",
       "      <td>55</td>\n",
       "      <td>53</td>\n",
       "      <td>60</td>\n",
       "      <td>168</td>\n",
       "      <td>2019</td>\n",
       "      <td>NaN</td>\n",
       "    </tr>\n",
       "    <tr>\n",
       "      <th>545863</th>\n",
       "      <td>54</td>\n",
       "      <td>55</td>\n",
       "      <td>57</td>\n",
       "      <td>166</td>\n",
       "      <td>2019</td>\n",
       "      <td>2021.0</td>\n",
       "    </tr>\n",
       "    <tr>\n",
       "      <th>545864</th>\n",
       "      <td>55</td>\n",
       "      <td>56</td>\n",
       "      <td>57</td>\n",
       "      <td>168</td>\n",
       "      <td>2019</td>\n",
       "      <td>2021.0</td>\n",
       "    </tr>\n",
       "    <tr>\n",
       "      <th>545865</th>\n",
       "      <td>54</td>\n",
       "      <td>53</td>\n",
       "      <td>61</td>\n",
       "      <td>168</td>\n",
       "      <td>2019</td>\n",
       "      <td>NaN</td>\n",
       "    </tr>\n",
       "  </tbody>\n",
       "</table>\n",
       "<p>3805 rows × 6 columns</p>\n",
       "</div>"
      ],
      "text/plain": [
       "        B1  B2  B3  Балл   Год  GOD_END\n",
       "119368  80  84  88   252  2017      NaN\n",
       "130817  84  86  85   265  2019      NaN\n",
       "131500  83  76  62   231  2019   2023.0\n",
       "135217  89  84  66   239  2017   2021.0\n",
       "137663  80  80  91   251  2017   2021.0\n",
       "...     ..  ..  ..   ...   ...      ...\n",
       "545861  53  51  59   163  2019   2021.0\n",
       "545862  55  53  60   168  2019      NaN\n",
       "545863  54  55  57   166  2019   2021.0\n",
       "545864  55  56  57   168  2019   2021.0\n",
       "545865  54  53  61   168  2019      NaN\n",
       "\n",
       "[3805 rows x 6 columns]"
      ]
     },
     "execution_count": 35,
     "metadata": {},
     "output_type": "execute_result"
    }
   ],
   "source": [
    "vipusk_ball = priem_ball.join(df_vipusk, how='left')\n",
    "vipusk_ball"
   ]
  },
  {
   "cell_type": "code",
   "execution_count": 36,
   "metadata": {},
   "outputs": [
    {
     "data": {
      "text/html": [
       "<div>\n",
       "<style scoped>\n",
       "    .dataframe tbody tr th:only-of-type {\n",
       "        vertical-align: middle;\n",
       "    }\n",
       "\n",
       "    .dataframe tbody tr th {\n",
       "        vertical-align: top;\n",
       "    }\n",
       "\n",
       "    .dataframe thead th {\n",
       "        text-align: right;\n",
       "    }\n",
       "</style>\n",
       "<table border=\"1\" class=\"dataframe\">\n",
       "  <thead>\n",
       "    <tr style=\"text-align: right;\">\n",
       "      <th></th>\n",
       "      <th>B1</th>\n",
       "      <th>B2</th>\n",
       "      <th>B3</th>\n",
       "      <th>Балл</th>\n",
       "      <th>Год</th>\n",
       "      <th>GOD_END</th>\n",
       "    </tr>\n",
       "  </thead>\n",
       "  <tbody>\n",
       "    <tr>\n",
       "      <th>119368</th>\n",
       "      <td>80</td>\n",
       "      <td>84</td>\n",
       "      <td>88</td>\n",
       "      <td>252</td>\n",
       "      <td>2017</td>\n",
       "      <td>0.0</td>\n",
       "    </tr>\n",
       "    <tr>\n",
       "      <th>130817</th>\n",
       "      <td>84</td>\n",
       "      <td>86</td>\n",
       "      <td>85</td>\n",
       "      <td>265</td>\n",
       "      <td>2019</td>\n",
       "      <td>0.0</td>\n",
       "    </tr>\n",
       "    <tr>\n",
       "      <th>131500</th>\n",
       "      <td>83</td>\n",
       "      <td>76</td>\n",
       "      <td>62</td>\n",
       "      <td>231</td>\n",
       "      <td>2019</td>\n",
       "      <td>2023.0</td>\n",
       "    </tr>\n",
       "    <tr>\n",
       "      <th>135217</th>\n",
       "      <td>89</td>\n",
       "      <td>84</td>\n",
       "      <td>66</td>\n",
       "      <td>239</td>\n",
       "      <td>2017</td>\n",
       "      <td>2021.0</td>\n",
       "    </tr>\n",
       "    <tr>\n",
       "      <th>137663</th>\n",
       "      <td>80</td>\n",
       "      <td>80</td>\n",
       "      <td>91</td>\n",
       "      <td>251</td>\n",
       "      <td>2017</td>\n",
       "      <td>2021.0</td>\n",
       "    </tr>\n",
       "    <tr>\n",
       "      <th>...</th>\n",
       "      <td>...</td>\n",
       "      <td>...</td>\n",
       "      <td>...</td>\n",
       "      <td>...</td>\n",
       "      <td>...</td>\n",
       "      <td>...</td>\n",
       "    </tr>\n",
       "    <tr>\n",
       "      <th>545861</th>\n",
       "      <td>53</td>\n",
       "      <td>51</td>\n",
       "      <td>59</td>\n",
       "      <td>163</td>\n",
       "      <td>2019</td>\n",
       "      <td>2021.0</td>\n",
       "    </tr>\n",
       "    <tr>\n",
       "      <th>545862</th>\n",
       "      <td>55</td>\n",
       "      <td>53</td>\n",
       "      <td>60</td>\n",
       "      <td>168</td>\n",
       "      <td>2019</td>\n",
       "      <td>0.0</td>\n",
       "    </tr>\n",
       "    <tr>\n",
       "      <th>545863</th>\n",
       "      <td>54</td>\n",
       "      <td>55</td>\n",
       "      <td>57</td>\n",
       "      <td>166</td>\n",
       "      <td>2019</td>\n",
       "      <td>2021.0</td>\n",
       "    </tr>\n",
       "    <tr>\n",
       "      <th>545864</th>\n",
       "      <td>55</td>\n",
       "      <td>56</td>\n",
       "      <td>57</td>\n",
       "      <td>168</td>\n",
       "      <td>2019</td>\n",
       "      <td>2021.0</td>\n",
       "    </tr>\n",
       "    <tr>\n",
       "      <th>545865</th>\n",
       "      <td>54</td>\n",
       "      <td>53</td>\n",
       "      <td>61</td>\n",
       "      <td>168</td>\n",
       "      <td>2019</td>\n",
       "      <td>0.0</td>\n",
       "    </tr>\n",
       "  </tbody>\n",
       "</table>\n",
       "<p>3805 rows × 6 columns</p>\n",
       "</div>"
      ],
      "text/plain": [
       "        B1  B2  B3  Балл   Год  GOD_END\n",
       "119368  80  84  88   252  2017      0.0\n",
       "130817  84  86  85   265  2019      0.0\n",
       "131500  83  76  62   231  2019   2023.0\n",
       "135217  89  84  66   239  2017   2021.0\n",
       "137663  80  80  91   251  2017   2021.0\n",
       "...     ..  ..  ..   ...   ...      ...\n",
       "545861  53  51  59   163  2019   2021.0\n",
       "545862  55  53  60   168  2019      0.0\n",
       "545863  54  55  57   166  2019   2021.0\n",
       "545864  55  56  57   168  2019   2021.0\n",
       "545865  54  53  61   168  2019      0.0\n",
       "\n",
       "[3805 rows x 6 columns]"
      ]
     },
     "execution_count": 36,
     "metadata": {},
     "output_type": "execute_result"
    }
   ],
   "source": [
    "vipusk_ball['GOD_END'] = vipusk_ball['GOD_END'].fillna(0)\n",
    "vipusk_ball"
   ]
  },
  {
   "cell_type": "code",
   "execution_count": 37,
   "metadata": {},
   "outputs": [
    {
     "data": {
      "text/html": [
       "<div>\n",
       "<style scoped>\n",
       "    .dataframe tbody tr th:only-of-type {\n",
       "        vertical-align: middle;\n",
       "    }\n",
       "\n",
       "    .dataframe tbody tr th {\n",
       "        vertical-align: top;\n",
       "    }\n",
       "\n",
       "    .dataframe thead th {\n",
       "        text-align: right;\n",
       "    }\n",
       "</style>\n",
       "<table border=\"1\" class=\"dataframe\">\n",
       "  <thead>\n",
       "    <tr style=\"text-align: right;\">\n",
       "      <th></th>\n",
       "      <th>B1</th>\n",
       "      <th>B2</th>\n",
       "      <th>B3</th>\n",
       "      <th>Балл</th>\n",
       "      <th>Год</th>\n",
       "      <th>GOD_END</th>\n",
       "    </tr>\n",
       "  </thead>\n",
       "  <tbody>\n",
       "    <tr>\n",
       "      <th>119368</th>\n",
       "      <td>80</td>\n",
       "      <td>84</td>\n",
       "      <td>88</td>\n",
       "      <td>252</td>\n",
       "      <td>2017</td>\n",
       "      <td>0.0</td>\n",
       "    </tr>\n",
       "    <tr>\n",
       "      <th>130817</th>\n",
       "      <td>84</td>\n",
       "      <td>86</td>\n",
       "      <td>85</td>\n",
       "      <td>265</td>\n",
       "      <td>2019</td>\n",
       "      <td>0.0</td>\n",
       "    </tr>\n",
       "    <tr>\n",
       "      <th>131500</th>\n",
       "      <td>83</td>\n",
       "      <td>76</td>\n",
       "      <td>62</td>\n",
       "      <td>231</td>\n",
       "      <td>2019</td>\n",
       "      <td>1.0</td>\n",
       "    </tr>\n",
       "    <tr>\n",
       "      <th>135217</th>\n",
       "      <td>89</td>\n",
       "      <td>84</td>\n",
       "      <td>66</td>\n",
       "      <td>239</td>\n",
       "      <td>2017</td>\n",
       "      <td>1.0</td>\n",
       "    </tr>\n",
       "    <tr>\n",
       "      <th>137663</th>\n",
       "      <td>80</td>\n",
       "      <td>80</td>\n",
       "      <td>91</td>\n",
       "      <td>251</td>\n",
       "      <td>2017</td>\n",
       "      <td>1.0</td>\n",
       "    </tr>\n",
       "    <tr>\n",
       "      <th>...</th>\n",
       "      <td>...</td>\n",
       "      <td>...</td>\n",
       "      <td>...</td>\n",
       "      <td>...</td>\n",
       "      <td>...</td>\n",
       "      <td>...</td>\n",
       "    </tr>\n",
       "    <tr>\n",
       "      <th>545861</th>\n",
       "      <td>53</td>\n",
       "      <td>51</td>\n",
       "      <td>59</td>\n",
       "      <td>163</td>\n",
       "      <td>2019</td>\n",
       "      <td>1.0</td>\n",
       "    </tr>\n",
       "    <tr>\n",
       "      <th>545862</th>\n",
       "      <td>55</td>\n",
       "      <td>53</td>\n",
       "      <td>60</td>\n",
       "      <td>168</td>\n",
       "      <td>2019</td>\n",
       "      <td>0.0</td>\n",
       "    </tr>\n",
       "    <tr>\n",
       "      <th>545863</th>\n",
       "      <td>54</td>\n",
       "      <td>55</td>\n",
       "      <td>57</td>\n",
       "      <td>166</td>\n",
       "      <td>2019</td>\n",
       "      <td>1.0</td>\n",
       "    </tr>\n",
       "    <tr>\n",
       "      <th>545864</th>\n",
       "      <td>55</td>\n",
       "      <td>56</td>\n",
       "      <td>57</td>\n",
       "      <td>168</td>\n",
       "      <td>2019</td>\n",
       "      <td>1.0</td>\n",
       "    </tr>\n",
       "    <tr>\n",
       "      <th>545865</th>\n",
       "      <td>54</td>\n",
       "      <td>53</td>\n",
       "      <td>61</td>\n",
       "      <td>168</td>\n",
       "      <td>2019</td>\n",
       "      <td>0.0</td>\n",
       "    </tr>\n",
       "  </tbody>\n",
       "</table>\n",
       "<p>3805 rows × 6 columns</p>\n",
       "</div>"
      ],
      "text/plain": [
       "        B1  B2  B3  Балл   Год  GOD_END\n",
       "119368  80  84  88   252  2017      0.0\n",
       "130817  84  86  85   265  2019      0.0\n",
       "131500  83  76  62   231  2019      1.0\n",
       "135217  89  84  66   239  2017      1.0\n",
       "137663  80  80  91   251  2017      1.0\n",
       "...     ..  ..  ..   ...   ...      ...\n",
       "545861  53  51  59   163  2019      1.0\n",
       "545862  55  53  60   168  2019      0.0\n",
       "545863  54  55  57   166  2019      1.0\n",
       "545864  55  56  57   168  2019      1.0\n",
       "545865  54  53  61   168  2019      0.0\n",
       "\n",
       "[3805 rows x 6 columns]"
      ]
     },
     "execution_count": 37,
     "metadata": {},
     "output_type": "execute_result"
    }
   ],
   "source": [
    "vipusk_ball[\"GOD_END\"].replace(2023, 1, inplace = True)\n",
    "vipusk_ball[\"GOD_END\"].replace(2022, 1, inplace = True)\n",
    "vipusk_ball[\"GOD_END\"].replace(2021, 1, inplace = True)\n",
    "vipusk_ball"
   ]
  },
  {
   "cell_type": "code",
   "execution_count": 38,
   "metadata": {},
   "outputs": [
    {
     "data": {
      "text/html": [
       "<div>\n",
       "<style scoped>\n",
       "    .dataframe tbody tr th:only-of-type {\n",
       "        vertical-align: middle;\n",
       "    }\n",
       "\n",
       "    .dataframe tbody tr th {\n",
       "        vertical-align: top;\n",
       "    }\n",
       "\n",
       "    .dataframe thead th {\n",
       "        text-align: right;\n",
       "    }\n",
       "</style>\n",
       "<table border=\"1\" class=\"dataframe\">\n",
       "  <thead>\n",
       "    <tr style=\"text-align: right;\">\n",
       "      <th></th>\n",
       "      <th>B1</th>\n",
       "      <th>B2</th>\n",
       "      <th>B3</th>\n",
       "      <th>Балл</th>\n",
       "      <th>Год</th>\n",
       "      <th>GOD_END</th>\n",
       "    </tr>\n",
       "  </thead>\n",
       "  <tbody>\n",
       "    <tr>\n",
       "      <th>119368</th>\n",
       "      <td>80</td>\n",
       "      <td>84</td>\n",
       "      <td>88</td>\n",
       "      <td>252</td>\n",
       "      <td>2017</td>\n",
       "      <td>0.0</td>\n",
       "    </tr>\n",
       "    <tr>\n",
       "      <th>130817</th>\n",
       "      <td>84</td>\n",
       "      <td>86</td>\n",
       "      <td>85</td>\n",
       "      <td>265</td>\n",
       "      <td>2019</td>\n",
       "      <td>0.0</td>\n",
       "    </tr>\n",
       "    <tr>\n",
       "      <th>141884</th>\n",
       "      <td>80</td>\n",
       "      <td>60</td>\n",
       "      <td>82</td>\n",
       "      <td>222</td>\n",
       "      <td>2018</td>\n",
       "      <td>0.0</td>\n",
       "    </tr>\n",
       "    <tr>\n",
       "      <th>143489</th>\n",
       "      <td>58</td>\n",
       "      <td>76</td>\n",
       "      <td>62</td>\n",
       "      <td>196</td>\n",
       "      <td>2017</td>\n",
       "      <td>0.0</td>\n",
       "    </tr>\n",
       "    <tr>\n",
       "      <th>146752</th>\n",
       "      <td>78</td>\n",
       "      <td>76</td>\n",
       "      <td>71</td>\n",
       "      <td>235</td>\n",
       "      <td>2019</td>\n",
       "      <td>0.0</td>\n",
       "    </tr>\n",
       "    <tr>\n",
       "      <th>...</th>\n",
       "      <td>...</td>\n",
       "      <td>...</td>\n",
       "      <td>...</td>\n",
       "      <td>...</td>\n",
       "      <td>...</td>\n",
       "      <td>...</td>\n",
       "    </tr>\n",
       "    <tr>\n",
       "      <th>545837</th>\n",
       "      <td>58</td>\n",
       "      <td>55</td>\n",
       "      <td>60</td>\n",
       "      <td>173</td>\n",
       "      <td>2019</td>\n",
       "      <td>0.0</td>\n",
       "    </tr>\n",
       "    <tr>\n",
       "      <th>545858</th>\n",
       "      <td>60</td>\n",
       "      <td>59</td>\n",
       "      <td>70</td>\n",
       "      <td>189</td>\n",
       "      <td>2019</td>\n",
       "      <td>0.0</td>\n",
       "    </tr>\n",
       "    <tr>\n",
       "      <th>545859</th>\n",
       "      <td>59</td>\n",
       "      <td>54</td>\n",
       "      <td>62</td>\n",
       "      <td>175</td>\n",
       "      <td>2019</td>\n",
       "      <td>0.0</td>\n",
       "    </tr>\n",
       "    <tr>\n",
       "      <th>545862</th>\n",
       "      <td>55</td>\n",
       "      <td>53</td>\n",
       "      <td>60</td>\n",
       "      <td>168</td>\n",
       "      <td>2019</td>\n",
       "      <td>0.0</td>\n",
       "    </tr>\n",
       "    <tr>\n",
       "      <th>545865</th>\n",
       "      <td>54</td>\n",
       "      <td>53</td>\n",
       "      <td>61</td>\n",
       "      <td>168</td>\n",
       "      <td>2019</td>\n",
       "      <td>0.0</td>\n",
       "    </tr>\n",
       "  </tbody>\n",
       "</table>\n",
       "<p>1795 rows × 6 columns</p>\n",
       "</div>"
      ],
      "text/plain": [
       "        B1  B2  B3  Балл   Год  GOD_END\n",
       "119368  80  84  88   252  2017      0.0\n",
       "130817  84  86  85   265  2019      0.0\n",
       "141884  80  60  82   222  2018      0.0\n",
       "143489  58  76  62   196  2017      0.0\n",
       "146752  78  76  71   235  2019      0.0\n",
       "...     ..  ..  ..   ...   ...      ...\n",
       "545837  58  55  60   173  2019      0.0\n",
       "545858  60  59  70   189  2019      0.0\n",
       "545859  59  54  62   175  2019      0.0\n",
       "545862  55  53  60   168  2019      0.0\n",
       "545865  54  53  61   168  2019      0.0\n",
       "\n",
       "[1795 rows x 6 columns]"
      ]
     },
     "execution_count": 38,
     "metadata": {},
     "output_type": "execute_result"
    }
   ],
   "source": [
    "vipusk_ball[vipusk_ball[\"GOD_END\"] == 0]"
   ]
  },
  {
   "cell_type": "code",
   "execution_count": 39,
   "metadata": {},
   "outputs": [
    {
     "data": {
      "text/html": [
       "<div>\n",
       "<style scoped>\n",
       "    .dataframe tbody tr th:only-of-type {\n",
       "        vertical-align: middle;\n",
       "    }\n",
       "\n",
       "    .dataframe tbody tr th {\n",
       "        vertical-align: top;\n",
       "    }\n",
       "\n",
       "    .dataframe thead th {\n",
       "        text-align: right;\n",
       "    }\n",
       "</style>\n",
       "<table border=\"1\" class=\"dataframe\">\n",
       "  <thead>\n",
       "    <tr style=\"text-align: right;\">\n",
       "      <th></th>\n",
       "      <th>B1</th>\n",
       "      <th>B2</th>\n",
       "      <th>B3</th>\n",
       "      <th>Балл</th>\n",
       "      <th>Год</th>\n",
       "      <th>GOD_END</th>\n",
       "    </tr>\n",
       "  </thead>\n",
       "  <tbody>\n",
       "    <tr>\n",
       "      <th>131500</th>\n",
       "      <td>83</td>\n",
       "      <td>76</td>\n",
       "      <td>62</td>\n",
       "      <td>231</td>\n",
       "      <td>2019</td>\n",
       "      <td>1.0</td>\n",
       "    </tr>\n",
       "    <tr>\n",
       "      <th>135217</th>\n",
       "      <td>89</td>\n",
       "      <td>84</td>\n",
       "      <td>66</td>\n",
       "      <td>239</td>\n",
       "      <td>2017</td>\n",
       "      <td>1.0</td>\n",
       "    </tr>\n",
       "    <tr>\n",
       "      <th>137663</th>\n",
       "      <td>80</td>\n",
       "      <td>80</td>\n",
       "      <td>91</td>\n",
       "      <td>251</td>\n",
       "      <td>2017</td>\n",
       "      <td>1.0</td>\n",
       "    </tr>\n",
       "    <tr>\n",
       "      <th>141730</th>\n",
       "      <td>68</td>\n",
       "      <td>78</td>\n",
       "      <td>96</td>\n",
       "      <td>242</td>\n",
       "      <td>2018</td>\n",
       "      <td>1.0</td>\n",
       "    </tr>\n",
       "    <tr>\n",
       "      <th>143576</th>\n",
       "      <td>61</td>\n",
       "      <td>62</td>\n",
       "      <td>73</td>\n",
       "      <td>206</td>\n",
       "      <td>2019</td>\n",
       "      <td>1.0</td>\n",
       "    </tr>\n",
       "    <tr>\n",
       "      <th>...</th>\n",
       "      <td>...</td>\n",
       "      <td>...</td>\n",
       "      <td>...</td>\n",
       "      <td>...</td>\n",
       "      <td>...</td>\n",
       "      <td>...</td>\n",
       "    </tr>\n",
       "    <tr>\n",
       "      <th>545857</th>\n",
       "      <td>53</td>\n",
       "      <td>51</td>\n",
       "      <td>58</td>\n",
       "      <td>162</td>\n",
       "      <td>2019</td>\n",
       "      <td>1.0</td>\n",
       "    </tr>\n",
       "    <tr>\n",
       "      <th>545860</th>\n",
       "      <td>54</td>\n",
       "      <td>51</td>\n",
       "      <td>57</td>\n",
       "      <td>162</td>\n",
       "      <td>2019</td>\n",
       "      <td>1.0</td>\n",
       "    </tr>\n",
       "    <tr>\n",
       "      <th>545861</th>\n",
       "      <td>53</td>\n",
       "      <td>51</td>\n",
       "      <td>59</td>\n",
       "      <td>163</td>\n",
       "      <td>2019</td>\n",
       "      <td>1.0</td>\n",
       "    </tr>\n",
       "    <tr>\n",
       "      <th>545863</th>\n",
       "      <td>54</td>\n",
       "      <td>55</td>\n",
       "      <td>57</td>\n",
       "      <td>166</td>\n",
       "      <td>2019</td>\n",
       "      <td>1.0</td>\n",
       "    </tr>\n",
       "    <tr>\n",
       "      <th>545864</th>\n",
       "      <td>55</td>\n",
       "      <td>56</td>\n",
       "      <td>57</td>\n",
       "      <td>168</td>\n",
       "      <td>2019</td>\n",
       "      <td>1.0</td>\n",
       "    </tr>\n",
       "  </tbody>\n",
       "</table>\n",
       "<p>2010 rows × 6 columns</p>\n",
       "</div>"
      ],
      "text/plain": [
       "        B1  B2  B3  Балл   Год  GOD_END\n",
       "131500  83  76  62   231  2019      1.0\n",
       "135217  89  84  66   239  2017      1.0\n",
       "137663  80  80  91   251  2017      1.0\n",
       "141730  68  78  96   242  2018      1.0\n",
       "143576  61  62  73   206  2019      1.0\n",
       "...     ..  ..  ..   ...   ...      ...\n",
       "545857  53  51  58   162  2019      1.0\n",
       "545860  54  51  57   162  2019      1.0\n",
       "545861  53  51  59   163  2019      1.0\n",
       "545863  54  55  57   166  2019      1.0\n",
       "545864  55  56  57   168  2019      1.0\n",
       "\n",
       "[2010 rows x 6 columns]"
      ]
     },
     "execution_count": 39,
     "metadata": {},
     "output_type": "execute_result"
    }
   ],
   "source": [
    "vipusk_ball[vipusk_ball[\"GOD_END\"] == 1]"
   ]
  },
  {
   "cell_type": "code",
   "execution_count": 40,
   "metadata": {},
   "outputs": [],
   "source": [
    "data = vipusk_ball.rename(columns={'GOD_END': 'Выпуск'})"
   ]
  },
  {
   "cell_type": "code",
   "execution_count": 41,
   "metadata": {},
   "outputs": [],
   "source": [
    "data = data[data['Год'] <= 2019]"
   ]
  },
  {
   "cell_type": "code",
   "execution_count": 42,
   "metadata": {},
   "outputs": [
    {
     "data": {
      "text/plain": [
       "1.0    2010\n",
       "0.0    1751\n",
       "Name: Выпуск, dtype: int64"
      ]
     },
     "execution_count": 42,
     "metadata": {},
     "output_type": "execute_result"
    }
   ],
   "source": [
    "data['Выпуск'].value_counts()"
   ]
  },
  {
   "cell_type": "code",
   "execution_count": 43,
   "metadata": {},
   "outputs": [
    {
     "data": {
      "text/html": [
       "<div>\n",
       "<style scoped>\n",
       "    .dataframe tbody tr th:only-of-type {\n",
       "        vertical-align: middle;\n",
       "    }\n",
       "\n",
       "    .dataframe tbody tr th {\n",
       "        vertical-align: top;\n",
       "    }\n",
       "\n",
       "    .dataframe thead th {\n",
       "        text-align: right;\n",
       "    }\n",
       "</style>\n",
       "<table border=\"1\" class=\"dataframe\">\n",
       "  <thead>\n",
       "    <tr style=\"text-align: right;\">\n",
       "      <th></th>\n",
       "      <th>B1</th>\n",
       "      <th>B2</th>\n",
       "      <th>B3</th>\n",
       "      <th>Балл</th>\n",
       "      <th>Год</th>\n",
       "      <th>Выпуск</th>\n",
       "    </tr>\n",
       "  </thead>\n",
       "  <tbody>\n",
       "    <tr>\n",
       "      <th>count</th>\n",
       "      <td>3761.000000</td>\n",
       "      <td>3761.000000</td>\n",
       "      <td>3761.000000</td>\n",
       "      <td>3761.000000</td>\n",
       "      <td>3761.000000</td>\n",
       "      <td>3761.000000</td>\n",
       "    </tr>\n",
       "    <tr>\n",
       "      <th>mean</th>\n",
       "      <td>72.612071</td>\n",
       "      <td>72.822122</td>\n",
       "      <td>80.653815</td>\n",
       "      <td>227.008774</td>\n",
       "      <td>2017.976602</td>\n",
       "      <td>0.534432</td>\n",
       "    </tr>\n",
       "    <tr>\n",
       "      <th>std</th>\n",
       "      <td>12.213580</td>\n",
       "      <td>10.353384</td>\n",
       "      <td>11.281519</td>\n",
       "      <td>25.045516</td>\n",
       "      <td>0.821898</td>\n",
       "      <td>0.498879</td>\n",
       "    </tr>\n",
       "    <tr>\n",
       "      <th>min</th>\n",
       "      <td>50.000000</td>\n",
       "      <td>46.000000</td>\n",
       "      <td>54.000000</td>\n",
       "      <td>153.000000</td>\n",
       "      <td>2017.000000</td>\n",
       "      <td>0.000000</td>\n",
       "    </tr>\n",
       "    <tr>\n",
       "      <th>25%</th>\n",
       "      <td>62.000000</td>\n",
       "      <td>68.000000</td>\n",
       "      <td>72.000000</td>\n",
       "      <td>210.000000</td>\n",
       "      <td>2017.000000</td>\n",
       "      <td>0.000000</td>\n",
       "    </tr>\n",
       "    <tr>\n",
       "      <th>50%</th>\n",
       "      <td>73.000000</td>\n",
       "      <td>74.000000</td>\n",
       "      <td>82.000000</td>\n",
       "      <td>229.000000</td>\n",
       "      <td>2018.000000</td>\n",
       "      <td>1.000000</td>\n",
       "    </tr>\n",
       "    <tr>\n",
       "      <th>75%</th>\n",
       "      <td>82.000000</td>\n",
       "      <td>80.000000</td>\n",
       "      <td>89.000000</td>\n",
       "      <td>245.000000</td>\n",
       "      <td>2019.000000</td>\n",
       "      <td>1.000000</td>\n",
       "    </tr>\n",
       "    <tr>\n",
       "      <th>max</th>\n",
       "      <td>100.000000</td>\n",
       "      <td>100.000000</td>\n",
       "      <td>100.000000</td>\n",
       "      <td>294.000000</td>\n",
       "      <td>2019.000000</td>\n",
       "      <td>1.000000</td>\n",
       "    </tr>\n",
       "  </tbody>\n",
       "</table>\n",
       "</div>"
      ],
      "text/plain": [
       "                B1           B2           B3         Балл          Год  \\\n",
       "count  3761.000000  3761.000000  3761.000000  3761.000000  3761.000000   \n",
       "mean     72.612071    72.822122    80.653815   227.008774  2017.976602   \n",
       "std      12.213580    10.353384    11.281519    25.045516     0.821898   \n",
       "min      50.000000    46.000000    54.000000   153.000000  2017.000000   \n",
       "25%      62.000000    68.000000    72.000000   210.000000  2017.000000   \n",
       "50%      73.000000    74.000000    82.000000   229.000000  2018.000000   \n",
       "75%      82.000000    80.000000    89.000000   245.000000  2019.000000   \n",
       "max     100.000000   100.000000   100.000000   294.000000  2019.000000   \n",
       "\n",
       "            Выпуск  \n",
       "count  3761.000000  \n",
       "mean      0.534432  \n",
       "std       0.498879  \n",
       "min       0.000000  \n",
       "25%       0.000000  \n",
       "50%       1.000000  \n",
       "75%       1.000000  \n",
       "max       1.000000  "
      ]
     },
     "execution_count": 43,
     "metadata": {},
     "output_type": "execute_result"
    }
   ],
   "source": [
    "data.describe()"
   ]
  },
  {
   "cell_type": "code",
   "execution_count": 44,
   "metadata": {},
   "outputs": [
    {
     "data": {
      "text/html": [
       "<div>\n",
       "<style scoped>\n",
       "    .dataframe tbody tr th:only-of-type {\n",
       "        vertical-align: middle;\n",
       "    }\n",
       "\n",
       "    .dataframe tbody tr th {\n",
       "        vertical-align: top;\n",
       "    }\n",
       "\n",
       "    .dataframe thead th {\n",
       "        text-align: right;\n",
       "    }\n",
       "</style>\n",
       "<table border=\"1\" class=\"dataframe\">\n",
       "  <thead>\n",
       "    <tr style=\"text-align: right;\">\n",
       "      <th></th>\n",
       "      <th>B1</th>\n",
       "      <th>B2</th>\n",
       "      <th>B3</th>\n",
       "      <th>Балл</th>\n",
       "      <th>Год</th>\n",
       "      <th>Выпуск</th>\n",
       "    </tr>\n",
       "  </thead>\n",
       "  <tbody>\n",
       "    <tr>\n",
       "      <th>count</th>\n",
       "      <td>2010.000000</td>\n",
       "      <td>2010.000000</td>\n",
       "      <td>2010.000000</td>\n",
       "      <td>2010.000000</td>\n",
       "      <td>2010.000000</td>\n",
       "      <td>2010.0</td>\n",
       "    </tr>\n",
       "    <tr>\n",
       "      <th>mean</th>\n",
       "      <td>73.453234</td>\n",
       "      <td>73.711940</td>\n",
       "      <td>82.798010</td>\n",
       "      <td>230.943284</td>\n",
       "      <td>2017.965672</td>\n",
       "      <td>1.0</td>\n",
       "    </tr>\n",
       "    <tr>\n",
       "      <th>std</th>\n",
       "      <td>12.211063</td>\n",
       "      <td>10.132674</td>\n",
       "      <td>10.304667</td>\n",
       "      <td>24.646566</td>\n",
       "      <td>0.812616</td>\n",
       "      <td>0.0</td>\n",
       "    </tr>\n",
       "    <tr>\n",
       "      <th>min</th>\n",
       "      <td>50.000000</td>\n",
       "      <td>47.000000</td>\n",
       "      <td>54.000000</td>\n",
       "      <td>157.000000</td>\n",
       "      <td>2017.000000</td>\n",
       "      <td>1.0</td>\n",
       "    </tr>\n",
       "    <tr>\n",
       "      <th>25%</th>\n",
       "      <td>63.000000</td>\n",
       "      <td>68.000000</td>\n",
       "      <td>76.000000</td>\n",
       "      <td>215.000000</td>\n",
       "      <td>2017.000000</td>\n",
       "      <td>1.0</td>\n",
       "    </tr>\n",
       "    <tr>\n",
       "      <th>50%</th>\n",
       "      <td>74.000000</td>\n",
       "      <td>74.000000</td>\n",
       "      <td>85.000000</td>\n",
       "      <td>233.000000</td>\n",
       "      <td>2018.000000</td>\n",
       "      <td>1.0</td>\n",
       "    </tr>\n",
       "    <tr>\n",
       "      <th>75%</th>\n",
       "      <td>83.000000</td>\n",
       "      <td>80.000000</td>\n",
       "      <td>91.000000</td>\n",
       "      <td>248.000000</td>\n",
       "      <td>2019.000000</td>\n",
       "      <td>1.0</td>\n",
       "    </tr>\n",
       "    <tr>\n",
       "      <th>max</th>\n",
       "      <td>100.000000</td>\n",
       "      <td>100.000000</td>\n",
       "      <td>100.000000</td>\n",
       "      <td>294.000000</td>\n",
       "      <td>2019.000000</td>\n",
       "      <td>1.0</td>\n",
       "    </tr>\n",
       "  </tbody>\n",
       "</table>\n",
       "</div>"
      ],
      "text/plain": [
       "                B1           B2           B3         Балл          Год  Выпуск\n",
       "count  2010.000000  2010.000000  2010.000000  2010.000000  2010.000000  2010.0\n",
       "mean     73.453234    73.711940    82.798010   230.943284  2017.965672     1.0\n",
       "std      12.211063    10.132674    10.304667    24.646566     0.812616     0.0\n",
       "min      50.000000    47.000000    54.000000   157.000000  2017.000000     1.0\n",
       "25%      63.000000    68.000000    76.000000   215.000000  2017.000000     1.0\n",
       "50%      74.000000    74.000000    85.000000   233.000000  2018.000000     1.0\n",
       "75%      83.000000    80.000000    91.000000   248.000000  2019.000000     1.0\n",
       "max     100.000000   100.000000   100.000000   294.000000  2019.000000     1.0"
      ]
     },
     "execution_count": 44,
     "metadata": {},
     "output_type": "execute_result"
    }
   ],
   "source": [
    "data[data['Выпуск'] == 1].describe()"
   ]
  },
  {
   "cell_type": "code",
   "execution_count": 45,
   "metadata": {},
   "outputs": [
    {
     "data": {
      "text/html": [
       "<div>\n",
       "<style scoped>\n",
       "    .dataframe tbody tr th:only-of-type {\n",
       "        vertical-align: middle;\n",
       "    }\n",
       "\n",
       "    .dataframe tbody tr th {\n",
       "        vertical-align: top;\n",
       "    }\n",
       "\n",
       "    .dataframe thead th {\n",
       "        text-align: right;\n",
       "    }\n",
       "</style>\n",
       "<table border=\"1\" class=\"dataframe\">\n",
       "  <thead>\n",
       "    <tr style=\"text-align: right;\">\n",
       "      <th></th>\n",
       "      <th>B1</th>\n",
       "      <th>B2</th>\n",
       "      <th>B3</th>\n",
       "      <th>Балл</th>\n",
       "      <th>Год</th>\n",
       "      <th>Выпуск</th>\n",
       "    </tr>\n",
       "  </thead>\n",
       "  <tbody>\n",
       "    <tr>\n",
       "      <th>count</th>\n",
       "      <td>1751.000000</td>\n",
       "      <td>1751.000000</td>\n",
       "      <td>1751.000000</td>\n",
       "      <td>1751.000000</td>\n",
       "      <td>1751.000000</td>\n",
       "      <td>1751.0</td>\n",
       "    </tr>\n",
       "    <tr>\n",
       "      <th>mean</th>\n",
       "      <td>71.646488</td>\n",
       "      <td>71.800685</td>\n",
       "      <td>78.192461</td>\n",
       "      <td>222.492290</td>\n",
       "      <td>2017.989149</td>\n",
       "      <td>0.0</td>\n",
       "    </tr>\n",
       "    <tr>\n",
       "      <th>std</th>\n",
       "      <td>12.148326</td>\n",
       "      <td>10.511475</td>\n",
       "      <td>11.841046</td>\n",
       "      <td>24.742764</td>\n",
       "      <td>0.832481</td>\n",
       "      <td>0.0</td>\n",
       "    </tr>\n",
       "    <tr>\n",
       "      <th>min</th>\n",
       "      <td>50.000000</td>\n",
       "      <td>46.000000</td>\n",
       "      <td>54.000000</td>\n",
       "      <td>153.000000</td>\n",
       "      <td>2017.000000</td>\n",
       "      <td>0.0</td>\n",
       "    </tr>\n",
       "    <tr>\n",
       "      <th>25%</th>\n",
       "      <td>61.000000</td>\n",
       "      <td>65.000000</td>\n",
       "      <td>69.000000</td>\n",
       "      <td>205.000000</td>\n",
       "      <td>2017.000000</td>\n",
       "      <td>0.0</td>\n",
       "    </tr>\n",
       "    <tr>\n",
       "      <th>50%</th>\n",
       "      <td>72.000000</td>\n",
       "      <td>72.000000</td>\n",
       "      <td>78.000000</td>\n",
       "      <td>223.000000</td>\n",
       "      <td>2018.000000</td>\n",
       "      <td>0.0</td>\n",
       "    </tr>\n",
       "    <tr>\n",
       "      <th>75%</th>\n",
       "      <td>81.000000</td>\n",
       "      <td>79.000000</td>\n",
       "      <td>88.000000</td>\n",
       "      <td>241.000000</td>\n",
       "      <td>2019.000000</td>\n",
       "      <td>0.0</td>\n",
       "    </tr>\n",
       "    <tr>\n",
       "      <th>max</th>\n",
       "      <td>100.000000</td>\n",
       "      <td>100.000000</td>\n",
       "      <td>100.000000</td>\n",
       "      <td>289.000000</td>\n",
       "      <td>2019.000000</td>\n",
       "      <td>0.0</td>\n",
       "    </tr>\n",
       "  </tbody>\n",
       "</table>\n",
       "</div>"
      ],
      "text/plain": [
       "                B1           B2           B3         Балл          Год  Выпуск\n",
       "count  1751.000000  1751.000000  1751.000000  1751.000000  1751.000000  1751.0\n",
       "mean     71.646488    71.800685    78.192461   222.492290  2017.989149     0.0\n",
       "std      12.148326    10.511475    11.841046    24.742764     0.832481     0.0\n",
       "min      50.000000    46.000000    54.000000   153.000000  2017.000000     0.0\n",
       "25%      61.000000    65.000000    69.000000   205.000000  2017.000000     0.0\n",
       "50%      72.000000    72.000000    78.000000   223.000000  2018.000000     0.0\n",
       "75%      81.000000    79.000000    88.000000   241.000000  2019.000000     0.0\n",
       "max     100.000000   100.000000   100.000000   289.000000  2019.000000     0.0"
      ]
     },
     "execution_count": 45,
     "metadata": {},
     "output_type": "execute_result"
    }
   ],
   "source": [
    "data[data['Выпуск'] == 0].describe()"
   ]
  },
  {
   "cell_type": "code",
   "execution_count": 46,
   "metadata": {},
   "outputs": [],
   "source": [
    "data.to_csv('out.csv')"
   ]
  },
  {
   "cell_type": "code",
   "execution_count": 47,
   "metadata": {},
   "outputs": [
    {
     "data": {
      "image/png": "[encoded data removed]",
      "text/plain": [
       "<Figure size 432x288 with 1 Axes>"
      ]
     },
     "metadata": {
      "needs_background": "light"
     },
     "output_type": "display_data"
    }
   ],
   "source": [
    "sns.countplot(x='Выпуск', data=data, palette='hls')\n",
    "plt.show()"
   ]
  },
  {
   "cell_type": "code",
   "execution_count": 48,
   "metadata": {},
   "outputs": [
    {
     "data": {
      "text/plain": [
       "<AxesSubplot:xlabel='Балл', ylabel='Probability'>"
      ]
     },
     "execution_count": 48,
     "metadata": {},
     "output_type": "execute_result"
    },
    {
     "data": {
      "image/png": "[encoded data removed]",
      "text/plain": [
       "<Figure size 1200x750 with 1 Axes>"
      ]
     },
     "metadata": {
      "needs_background": "light"
     },
     "output_type": "display_data"
    }
   ],
   "source": [
    "fig, ax = plt.subplots(figsize=(8, 5), dpi=150)\n",
    "sns.histplot(data=data, \n",
    "            x='Балл', \n",
    "            alpha = .7, \n",
    "            legend='full',\n",
    "             hue='Выпуск',\n",
    "            bins=50,\n",
    "            kde = True,\n",
    "            stat = 'probability',\n",
    "             fill=False\n",
    "            )"
   ]
  },
  {
   "cell_type": "code",
   "execution_count": 49,
   "metadata": {},
   "outputs": [
    {
     "data": {
      "text/plain": [
       "Text(0.5, 1.0, 'Год приема 2019')"
      ]
     },
     "execution_count": 49,
     "metadata": {},
     "output_type": "execute_result"
    },
    {
     "data": {
      "image/png": "[encoded data removed]",
      "text/plain": [
       "<Figure size 1050x1050 with 4 Axes>"
      ]
     },
     "metadata": {
      "needs_background": "light"
     },
     "output_type": "display_data"
    }
   ],
   "source": [
    "fig, ax = plt.subplots(2, 2, dpi=150, figsize=(7, 7))\n",
    "sns.histplot(data=data[data['Год']==2017], \n",
    "            x='Балл', \n",
    "            alpha = .7, \n",
    "            legend='full',\n",
    "             hue='Выпуск',\n",
    "            bins=50,\n",
    "            kde = True,\n",
    "            stat = 'probability',\n",
    "             fill=False,\n",
    "             ax=ax[0, 0]\n",
    "            ).set_title(\"Год приема 2017\")\n",
    "sns.histplot(data=data[data['Год']==2018], \n",
    "            x='Балл', \n",
    "            alpha = .7, \n",
    "            #legend='full',\n",
    "             hue='Выпуск',\n",
    "            bins=50,\n",
    "            kde = True,\n",
    "            stat = 'probability',\n",
    "             fill=False,\n",
    "             ax=ax[0, 1]\n",
    "            ).set_title(\"Год приема 2018\")\n",
    "sns.histplot(data=data[data['Год']==2019], \n",
    "            x='Балл', \n",
    "            alpha = .7, \n",
    "            legend='full',\n",
    "             hue='Выпуск',\n",
    "            bins=50,\n",
    "            kde = True,\n",
    "            stat = 'probability',\n",
    "             fill=False,\n",
    "             ax=ax[1, 0]\n",
    "            ).set_title(\"Год приема 2019\")"
   ]
  },
  {
   "cell_type": "code",
   "execution_count": 50,
   "metadata": {},
   "outputs": [
    {
     "data": {
      "text/plain": [
       "<seaborn.axisgrid.FacetGrid at 0x1f59c79e5e0>"
      ]
     },
     "execution_count": 50,
     "metadata": {},
     "output_type": "execute_result"
    },
    {
     "data": {
      "image/png": "[encoded data removed]",
      "text/plain": [
       "<Figure size 907.2x432 with 3 Axes>"
      ]
     },
     "metadata": {
      "needs_background": "light"
     },
     "output_type": "display_data"
    }
   ],
   "source": [
    "sns.displot(data=data, \n",
    "            x='Балл',\n",
    "            y='Выпуск', \n",
    "            alpha = .7, \n",
    "            legend='full',\n",
    "            col='Год',\n",
    "            col_wrap=3,\n",
    "            #stat='density',\n",
    "            height=6, \n",
    "            bins=20,\n",
    "            aspect=0.7)"
   ]
  },
  {
   "cell_type": "code",
   "execution_count": 51,
   "metadata": {},
   "outputs": [
    {
     "data": {
      "text/plain": [
       "<seaborn.axisgrid.FacetGrid at 0x1f59ca61370>"
      ]
     },
     "execution_count": 51,
     "metadata": {},
     "output_type": "execute_result"
    },
    {
     "data": {
      "image/png": "[encoded data removed]",
      "text/plain": [
       "<Figure size 1780x576 with 3 Axes>"
      ]
     },
     "metadata": {
      "needs_background": "light"
     },
     "output_type": "display_data"
    }
   ],
   "source": [
    "sns.displot(data=data, \n",
    "            x='Балл', \n",
    "            alpha = .7, \n",
    "            legend='full',\n",
    "            col='Год',\n",
    "            hue='Выпуск',\n",
    "            stat='density',\n",
    "            kde=True,\n",
    "            height=8,\n",
    "            bins=30,\n",
    "            aspect=1)"
   ]
  },
  {
   "cell_type": "code",
   "execution_count": 52,
   "metadata": {},
   "outputs": [
    {
     "data": {
      "text/plain": [
       "<seaborn.axisgrid.JointGrid at 0x1f5a07e7760>"
      ]
     },
     "execution_count": 52,
     "metadata": {},
     "output_type": "execute_result"
    },
    {
     "data": {
      "image/png": "[encoded data removed]",
      "text/plain": [
       "<Figure size 1080x1080 with 3 Axes>"
      ]
     },
     "metadata": {
      "needs_background": "light"
     },
     "output_type": "display_data"
    }
   ],
   "source": [
    "sns.jointplot(data=data, \n",
    "            x='Балл',\n",
    "            y='Выпуск', \n",
    "            alpha = .7, \n",
    "            legend='full',\n",
    "            #stat='density',\n",
    "            height=15\n",
    "           )"
   ]
  },
  {
   "cell_type": "code",
   "execution_count": 53,
   "metadata": {},
   "outputs": [
    {
     "data": {
      "text/html": [
       "<div>\n",
       "<style scoped>\n",
       "    .dataframe tbody tr th:only-of-type {\n",
       "        vertical-align: middle;\n",
       "    }\n",
       "\n",
       "    .dataframe tbody tr th {\n",
       "        vertical-align: top;\n",
       "    }\n",
       "\n",
       "    .dataframe thead th {\n",
       "        text-align: right;\n",
       "    }\n",
       "</style>\n",
       "<table border=\"1\" class=\"dataframe\">\n",
       "  <thead>\n",
       "    <tr style=\"text-align: right;\">\n",
       "      <th></th>\n",
       "      <th>B1</th>\n",
       "      <th>B2</th>\n",
       "      <th>B3</th>\n",
       "      <th>Балл</th>\n",
       "      <th>Год</th>\n",
       "      <th>Выпуск</th>\n",
       "    </tr>\n",
       "  </thead>\n",
       "  <tbody>\n",
       "    <tr>\n",
       "      <th>B1</th>\n",
       "      <td>1.000000</td>\n",
       "      <td>0.353474</td>\n",
       "      <td>0.258627</td>\n",
       "      <td>0.756162</td>\n",
       "      <td>0.047951</td>\n",
       "      <td>0.073799</td>\n",
       "    </tr>\n",
       "    <tr>\n",
       "      <th>B2</th>\n",
       "      <td>0.353474</td>\n",
       "      <td>1.000000</td>\n",
       "      <td>0.281087</td>\n",
       "      <td>0.723433</td>\n",
       "      <td>-0.074719</td>\n",
       "      <td>0.092094</td>\n",
       "    </tr>\n",
       "    <tr>\n",
       "      <th>B3</th>\n",
       "      <td>0.258627</td>\n",
       "      <td>0.281087</td>\n",
       "      <td>1.000000</td>\n",
       "      <td>0.695915</td>\n",
       "      <td>0.097681</td>\n",
       "      <td>0.203662</td>\n",
       "    </tr>\n",
       "    <tr>\n",
       "      <th>Балл</th>\n",
       "      <td>0.756162</td>\n",
       "      <td>0.723433</td>\n",
       "      <td>0.695915</td>\n",
       "      <td>1.000000</td>\n",
       "      <td>0.082285</td>\n",
       "      <td>0.168335</td>\n",
       "    </tr>\n",
       "    <tr>\n",
       "      <th>Год</th>\n",
       "      <td>0.047951</td>\n",
       "      <td>-0.074719</td>\n",
       "      <td>0.097681</td>\n",
       "      <td>0.082285</td>\n",
       "      <td>1.000000</td>\n",
       "      <td>-0.014250</td>\n",
       "    </tr>\n",
       "    <tr>\n",
       "      <th>Выпуск</th>\n",
       "      <td>0.073799</td>\n",
       "      <td>0.092094</td>\n",
       "      <td>0.203662</td>\n",
       "      <td>0.168335</td>\n",
       "      <td>-0.014250</td>\n",
       "      <td>1.000000</td>\n",
       "    </tr>\n",
       "  </tbody>\n",
       "</table>\n",
       "</div>"
      ],
      "text/plain": [
       "              B1        B2        B3      Балл       Год    Выпуск\n",
       "B1      1.000000  0.353474  0.258627  0.756162  0.047951  0.073799\n",
       "B2      0.353474  1.000000  0.281087  0.723433 -0.074719  0.092094\n",
       "B3      0.258627  0.281087  1.000000  0.695915  0.097681  0.203662\n",
       "Балл    0.756162  0.723433  0.695915  1.000000  0.082285  0.168335\n",
       "Год     0.047951 -0.074719  0.097681  0.082285  1.000000 -0.014250\n",
       "Выпуск  0.073799  0.092094  0.203662  0.168335 -0.014250  1.000000"
      ]
     },
     "execution_count": 53,
     "metadata": {},
     "output_type": "execute_result"
    }
   ],
   "source": [
    "corr = data.corr() #смотрим корреляционную матрицу\n",
    "corr"
   ]
  },
  {
   "cell_type": "code",
   "execution_count": 54,
   "metadata": {},
   "outputs": [
    {
     "data": {
      "text/plain": [
       "<AxesSubplot:>"
      ]
     },
     "execution_count": 54,
     "metadata": {},
     "output_type": "execute_result"
    },
    {
     "data": {
      "image/png": "[encoded data removed]",
      "text/plain": [
       "<Figure size 1080x504 with 2 Axes>"
      ]
     },
     "metadata": {},
     "output_type": "display_data"
    }
   ],
   "source": [
    "sns.set(font_scale=1.5) \n",
    "f, ax = plt.subplots(figsize=(15,7)) # выводим heatmap для корреляционной матрицы\n",
    "sns.heatmap(corr, annot=True, ax=ax, cmap=\"crest\")"
   ]
  },
  {
   "cell_type": "markdown",
   "metadata": {},
   "source": [
    "# Разделение выборки на тестовую и валидационную"
   ]
  },
  {
   "cell_type": "code",
   "execution_count": 55,
   "metadata": {},
   "outputs": [],
   "source": [
    "y = np.array(data[[\"Выпуск\"]])"
   ]
  },
  {
   "cell_type": "code",
   "execution_count": 56,
   "metadata": {},
   "outputs": [],
   "source": [
    "X = np.array(data[[\"Балл\"]])"
   ]
  },
  {
   "cell_type": "code",
   "execution_count": 57,
   "metadata": {},
   "outputs": [],
   "source": [
    "X_train, X_test, y_train, y_test = train_test_split(X, y, test_size=0.3, random_state=0)"
   ]
  },
  {
   "cell_type": "markdown",
   "metadata": {},
   "source": [
    "# Логистическая регрессия"
   ]
  },
  {
   "cell_type": "code",
   "execution_count": 58,
   "metadata": {},
   "outputs": [
    {
     "name": "stderr",
     "output_type": "stream",
     "text": [
      "C:\\Users\\seismopro\\Anaconda3\\lib\\site-packages\\sklearn\\utils\\validation.py:72: DataConversionWarning: A column-vector y was passed when a 1d array was expected. Please change the shape of y to (n_samples, ), for example using ravel().\n",
      "  return f(**kwargs)\n"
     ]
    },
    {
     "data": {
      "text/plain": [
       "LogisticRegression()"
      ]
     },
     "execution_count": 58,
     "metadata": {},
     "output_type": "execute_result"
    }
   ],
   "source": [
    "logreg = LogisticRegression()\n",
    "logreg.fit(X_train, y_train)"
   ]
  },
  {
   "cell_type": "code",
   "execution_count": 59,
   "metadata": {},
   "outputs": [
    {
     "data": {
      "text/plain": [
       "array([[0.01496196]])"
      ]
     },
     "execution_count": 59,
     "metadata": {},
     "output_type": "execute_result"
    }
   ],
   "source": [
    "log_odds = logreg.coef_\n",
    "log_odds"
   ]
  },
  {
   "cell_type": "code",
   "execution_count": 60,
   "metadata": {},
   "outputs": [
    {
     "data": {
      "text/plain": [
       "array([-3.22237809])"
      ]
     },
     "execution_count": 60,
     "metadata": {},
     "output_type": "execute_result"
    }
   ],
   "source": [
    "log_intercept = logreg.intercept_\n",
    "log_intercept"
   ]
  },
  {
   "cell_type": "code",
   "execution_count": 61,
   "metadata": {},
   "outputs": [
    {
     "data": {
      "text/plain": [
       "array([[215.37140531]])"
      ]
     },
     "execution_count": 61,
     "metadata": {},
     "output_type": "execute_result"
    }
   ],
   "source": [
    "X_crit = - log_intercept / log_odds\n",
    "X_crit"
   ]
  },
  {
   "cell_type": "code",
   "execution_count": 62,
   "metadata": {},
   "outputs": [],
   "source": [
    "def sigmoid(x):\n",
    "    return 1 / (1 + np.exp(- (log_odds * x + log_intercept)))"
   ]
  },
  {
   "cell_type": "code",
   "execution_count": 63,
   "metadata": {},
   "outputs": [
    {
     "name": "stdout",
     "output_type": "stream",
     "text": [
      "Accuracy of logistic regression classifier on test set: 0.57\n"
     ]
    }
   ],
   "source": [
    "y_pred = logreg.predict(X_test)\n",
    "print('Accuracy of logistic regression classifier on test set: {:.2f}'.format(logreg.score(X_test, y_test)))"
   ]
  },
  {
   "cell_type": "code",
   "execution_count": 64,
   "metadata": {},
   "outputs": [
    {
     "data": {
      "text/plain": [
       "array([[240],\n",
       "       [246],\n",
       "       [267],\n",
       "       ...,\n",
       "       [231],\n",
       "       [211],\n",
       "       [243]], dtype=int64)"
      ]
     },
     "execution_count": 64,
     "metadata": {},
     "output_type": "execute_result"
    }
   ],
   "source": [
    "X_test"
   ]
  },
  {
   "cell_type": "code",
   "execution_count": 65,
   "metadata": {},
   "outputs": [
    {
     "data": {
      "text/plain": [
       "array([[0.40890545, 0.59109455],\n",
       "       [0.38739779, 0.61260221],\n",
       "       [0.31594614, 0.68405386],\n",
       "       ...,\n",
       "       [0.44180632, 0.55819368],\n",
       "       [0.51634537, 0.48365463],\n",
       "       [0.39810244, 0.60189756]])"
      ]
     },
     "execution_count": 65,
     "metadata": {},
     "output_type": "execute_result"
    }
   ],
   "source": [
    "pred_proba = logreg.predict_proba(X_test)\n",
    "pred_proba"
   ]
  },
  {
   "cell_type": "code",
   "execution_count": 66,
   "metadata": {},
   "outputs": [
    {
     "data": {
      "text/plain": [
       "array([0.59109455, 0.61260221, 0.68405386, ..., 0.55819368, 0.48365463,\n",
       "       0.60189756])"
      ]
     },
     "execution_count": 66,
     "metadata": {},
     "output_type": "execute_result"
    }
   ],
   "source": [
    "pred_proba = pred_proba[:, 1]\n",
    "pred_proba"
   ]
  },
  {
   "cell_type": "code",
   "execution_count": 67,
   "metadata": {
    "scrolled": true
   },
   "outputs": [
    {
     "data": {
      "text/plain": [
       "<matplotlib.collections.PathCollection at 0x1f5a1249220>"
      ]
     },
     "execution_count": 67,
     "metadata": {},
     "output_type": "execute_result"
    },
    {
     "data": {
      "image/png": "[encoded data removed]",
      "text/plain": [
       "<Figure size 720x360 with 1 Axes>"
      ]
     },
     "metadata": {},
     "output_type": "display_data"
    }
   ],
   "source": [
    "plt.figure(figsize=(10,5))\n",
    "plt.scatter(X_test, pred_proba,  s=10)"
   ]
  },
  {
   "cell_type": "code",
   "execution_count": 68,
   "metadata": {
    "scrolled": true
   },
   "outputs": [
    {
     "data": {
      "text/plain": [
       "<matplotlib.collections.PathCollection at 0x1f59c4b5250>"
      ]
     },
     "execution_count": 68,
     "metadata": {},
     "output_type": "execute_result"
    },
    {
     "data": {
      "image/png": "[encoded data removed]",
      "text/plain": [
       "<Figure size 720x360 with 1 Axes>"
      ]
     },
     "metadata": {},
     "output_type": "display_data"
    }
   ],
   "source": [
    "plt.figure(figsize=(10,5))\n",
    "plt.scatter(X_test, sigmoid(X_test),  s=10)"
   ]
  },
  {
   "cell_type": "code",
   "execution_count": 69,
   "metadata": {},
   "outputs": [
    {
     "data": {
      "text/plain": [
       "<AxesSubplot:>"
      ]
     },
     "execution_count": 69,
     "metadata": {},
     "output_type": "execute_result"
    },
    {
     "data": {
      "image/png": "[encoded data removed]",
      "text/plain": [
       "<Figure size 432x288 with 2 Axes>"
      ]
     },
     "metadata": {},
     "output_type": "display_data"
    }
   ],
   "source": [
    "confusion_matrix = confusion_matrix(y_test, y_pred)\n",
    "sns.heatmap(confusion_matrix, annot=True, fmt = '4.0f', cmap=\"crest\")"
   ]
  },
  {
   "cell_type": "code",
   "execution_count": 70,
   "metadata": {
    "scrolled": false
   },
   "outputs": [
    {
     "name": "stderr",
     "output_type": "stream",
     "text": [
      "C:\\Users\\seismopro\\Anaconda3\\lib\\site-packages\\numpy\\core\\shape_base.py:65: VisibleDeprecationWarning: Creating an ndarray from ragged nested sequences (which is a list-or-tuple of lists-or-tuples-or ndarrays with different lengths or shapes) is deprecated. If you meant to do this, you must specify 'dtype=object' when creating the ndarray.\n",
      "  ary = asanyarray(ary)\n"
     ]
    },
    {
     "data": {
      "text/plain": [
       "<AxesSubplot:>"
      ]
     },
     "execution_count": 70,
     "metadata": {},
     "output_type": "execute_result"
    },
    {
     "data": {
      "image/png": "[encoded data removed]",
      "text/plain": [
       "<Figure size 1200x900 with 1 Axes>"
      ]
     },
     "metadata": {},
     "output_type": "display_data"
    }
   ],
   "source": [
    "fig, ax = plt.subplots(figsize=(8, 6), dpi=150)\n",
    "#plt.plot([min(X), max(X)], [0, 1],'r--')\n",
    "plt.plot([min(X), X_crit], [0.5, 0.5],'--')\n",
    "plt.locator_params(axis='y', nbins= 20)\n",
    "plt.plot(X_crit, 0.5, 'ro')\n",
    "plt.annotate(\"Крит. значение ЕГЭ = %.0f\"%(X_crit), xy=(X_crit, 0.5), xytext=(X_crit-10, 0.7),\n",
    "            arrowprops=dict(facecolor='black', shrink=0.05))\n",
    "sns.regplot(x=X, y=y, logistic=True, ci=None, line_kws={'color': 'red'})"
   ]
  },
  {
   "cell_type": "code",
   "execution_count": 71,
   "metadata": {
    "scrolled": true
   },
   "outputs": [
    {
     "data": {
      "image/png": "[encoded data removed]",
      "text/plain": [
       "<Figure size 432x288 with 1 Axes>"
      ]
     },
     "metadata": {},
     "output_type": "display_data"
    }
   ],
   "source": [
    "logit_roc_auc = roc_auc_score(y_test, logreg.predict(X_test))\n",
    "fpr, tpr, thresholds = roc_curve(y_test, logreg.predict_proba(X_test)[:,1])\n",
    "plt.figure()\n",
    "plt.plot(fpr, tpr, label='Logistic Regression (area = %0.2f)' % logit_roc_auc)\n",
    "plt.plot([0, 1], [0, 1],'r--')\n",
    "plt.xlim([0.0, 1.0])\n",
    "plt.ylim([0.0, 1.05])\n",
    "plt.xlabel('False Positive Rate')\n",
    "plt.ylabel('True Positive Rate')\n",
    "plt.legend(loc=\"lower right\")\n",
    "plt.savefig('Log_ROC')\n",
    "plt.show()"
   ]
  },
  {
   "cell_type": "code",
   "execution_count": 72,
   "metadata": {},
   "outputs": [],
   "source": [
    "data = data[data['Год']==2017]"
   ]
  },
  {
   "cell_type": "markdown",
   "metadata": {},
   "source": [
    "# Разделение выборки на тестовую и валидационную"
   ]
  },
  {
   "cell_type": "code",
   "execution_count": 73,
   "metadata": {},
   "outputs": [],
   "source": [
    "y = np.array(data[[\"Выпуск\"]])"
   ]
  },
  {
   "cell_type": "code",
   "execution_count": 74,
   "metadata": {},
   "outputs": [],
   "source": [
    "X = np.array(data[[\"Балл\"]])"
   ]
  },
  {
   "cell_type": "code",
   "execution_count": 75,
   "metadata": {},
   "outputs": [],
   "source": [
    "X_train, X_test, y_train, y_test = train_test_split(X, y, test_size=0.3, random_state=0)"
   ]
  },
  {
   "cell_type": "markdown",
   "metadata": {},
   "source": [
    "# Логистическая регрессия"
   ]
  },
  {
   "cell_type": "code",
   "execution_count": 76,
   "metadata": {},
   "outputs": [
    {
     "name": "stderr",
     "output_type": "stream",
     "text": [
      "C:\\Users\\seismopro\\Anaconda3\\lib\\site-packages\\sklearn\\utils\\validation.py:72: DataConversionWarning: A column-vector y was passed when a 1d array was expected. Please change the shape of y to (n_samples, ), for example using ravel().\n",
      "  return f(**kwargs)\n"
     ]
    },
    {
     "data": {
      "text/plain": [
       "LogisticRegression()"
      ]
     },
     "execution_count": 76,
     "metadata": {},
     "output_type": "execute_result"
    }
   ],
   "source": [
    "logreg = LogisticRegression()\n",
    "logreg.fit(X_train, y_train)"
   ]
  },
  {
   "cell_type": "code",
   "execution_count": 77,
   "metadata": {},
   "outputs": [
    {
     "data": {
      "text/plain": [
       "array([[0.02599339]])"
      ]
     },
     "execution_count": 77,
     "metadata": {},
     "output_type": "execute_result"
    }
   ],
   "source": [
    "log_odds = logreg.coef_\n",
    "log_odds"
   ]
  },
  {
   "cell_type": "code",
   "execution_count": 78,
   "metadata": {},
   "outputs": [
    {
     "data": {
      "text/plain": [
       "array([-5.6493515])"
      ]
     },
     "execution_count": 78,
     "metadata": {},
     "output_type": "execute_result"
    }
   ],
   "source": [
    "log_intercept = logreg.intercept_\n",
    "log_intercept"
   ]
  },
  {
   "cell_type": "code",
   "execution_count": 79,
   "metadata": {},
   "outputs": [
    {
     "data": {
      "text/plain": [
       "array([[217.33798579]])"
      ]
     },
     "execution_count": 79,
     "metadata": {},
     "output_type": "execute_result"
    }
   ],
   "source": [
    "X_crit = - log_intercept / log_odds\n",
    "X_crit"
   ]
  },
  {
   "cell_type": "code",
   "execution_count": 80,
   "metadata": {},
   "outputs": [],
   "source": [
    "def sigmoid(x):\n",
    "    return 1 / (1 + np.exp(- (log_odds * x + log_intercept)))"
   ]
  },
  {
   "cell_type": "code",
   "execution_count": 81,
   "metadata": {},
   "outputs": [
    {
     "name": "stdout",
     "output_type": "stream",
     "text": [
      "Accuracy of logistic regression classifier on test set: 0.62\n"
     ]
    }
   ],
   "source": [
    "y_pred = logreg.predict(X_test)\n",
    "print('Accuracy of logistic regression classifier on test set: {:.2f}'.format(logreg.score(X_test, y_test)))"
   ]
  },
  {
   "cell_type": "code",
   "execution_count": 82,
   "metadata": {},
   "outputs": [],
   "source": [
    "pred_proba = logreg.predict_proba(X_test)"
   ]
  },
  {
   "cell_type": "code",
   "execution_count": 83,
   "metadata": {},
   "outputs": [],
   "source": [
    "pred_proba = pred_proba[:, 1]"
   ]
  },
  {
   "cell_type": "code",
   "execution_count": 84,
   "metadata": {
    "scrolled": true
   },
   "outputs": [
    {
     "data": {
      "text/plain": [
       "<matplotlib.collections.PathCollection at 0x1f5a13eb4f0>"
      ]
     },
     "execution_count": 84,
     "metadata": {},
     "output_type": "execute_result"
    },
    {
     "data": {
      "image/png": "[encoded data removed]",
      "text/plain": [
       "<Figure size 720x360 with 1 Axes>"
      ]
     },
     "metadata": {},
     "output_type": "display_data"
    }
   ],
   "source": [
    "plt.figure(figsize=(10,5))\n",
    "plt.scatter(X_test, pred_proba,  s=10)"
   ]
  },
  {
   "cell_type": "code",
   "execution_count": 85,
   "metadata": {
    "scrolled": true
   },
   "outputs": [
    {
     "data": {
      "text/plain": [
       "<matplotlib.collections.PathCollection at 0x1f5a330bbe0>"
      ]
     },
     "execution_count": 85,
     "metadata": {},
     "output_type": "execute_result"
    },
    {
     "data": {
      "image/png": "[encoded data removed]",
      "text/plain": [
       "<Figure size 720x360 with 1 Axes>"
      ]
     },
     "metadata": {},
     "output_type": "display_data"
    }
   ],
   "source": [
    "plt.figure(figsize=(10,5))\n",
    "plt.scatter(X_test, sigmoid(X_test),  s=10)"
   ]
  },
  {
   "cell_type": "code",
   "execution_count": 86,
   "metadata": {
    "scrolled": false
   },
   "outputs": [
    {
     "name": "stderr",
     "output_type": "stream",
     "text": [
      "C:\\Users\\seismopro\\Anaconda3\\lib\\site-packages\\numpy\\core\\shape_base.py:65: VisibleDeprecationWarning: Creating an ndarray from ragged nested sequences (which is a list-or-tuple of lists-or-tuples-or ndarrays with different lengths or shapes) is deprecated. If you meant to do this, you must specify 'dtype=object' when creating the ndarray.\n",
      "  ary = asanyarray(ary)\n"
     ]
    },
    {
     "data": {
      "text/plain": [
       "<AxesSubplot:>"
      ]
     },
     "execution_count": 86,
     "metadata": {},
     "output_type": "execute_result"
    },
    {
     "data": {
      "image/png": "[encoded data removed]",
      "text/plain": [
       "<Figure size 1200x900 with 1 Axes>"
      ]
     },
     "metadata": {},
     "output_type": "display_data"
    }
   ],
   "source": [
    "fig, ax = plt.subplots(figsize=(8, 6), dpi=150)\n",
    "#plt.plot([min(X), max(X)], [0, 1],'r--')\n",
    "plt.plot([min(X), X_crit], [0.5, 0.5],'--')\n",
    "plt.locator_params(axis='y', nbins= 20)\n",
    "plt.plot(X_crit, 0.5, 'ro')\n",
    "plt.annotate(\"Крит. значение ЕГЭ = %.0f\"%(X_crit), xy=(X_crit, 0.5), xytext=(X_crit-10, 0.7),\n",
    "            arrowprops=dict(facecolor='black', shrink=0.05))\n",
    "sns.regplot(x=X, y=y, logistic=True, ci=None, line_kws={'color': 'red'})"
   ]
  },
  {
   "cell_type": "code",
   "execution_count": 87,
   "metadata": {
    "scrolled": true
   },
   "outputs": [
    {
     "data": {
      "image/png": "[encoded data removed]",
      "text/plain": [
       "<Figure size 432x288 with 1 Axes>"
      ]
     },
     "metadata": {},
     "output_type": "display_data"
    }
   ],
   "source": [
    "logit_roc_auc = roc_auc_score(y_test, logreg.predict(X_test))\n",
    "fpr, tpr, thresholds = roc_curve(y_test, logreg.predict_proba(X_test)[:,1])\n",
    "plt.figure()\n",
    "plt.plot(fpr, tpr, label='Logistic Regression (area = %0.2f)' % logit_roc_auc)\n",
    "plt.plot([0, 1], [0, 1],'r--')\n",
    "plt.xlim([0.0, 1.0])\n",
    "plt.ylim([0.0, 1.05])\n",
    "plt.xlabel('False Positive Rate')\n",
    "plt.ylabel('True Positive Rate')\n",
    "plt.legend(loc=\"lower right\")\n",
    "plt.savefig('Log_ROC')\n",
    "plt.show()"
   ]
  }
 ],
 "metadata": {
  "kernelspec": {
   "display_name": "Python 3",
   "language": "python",
   "name": "python3"
  },
  "language_info": {
   "codemirror_mode": {
    "name": "ipython",
    "version": 3
   },
   "file_extension": ".py",
   "mimetype": "text/x-python",
   "name": "python",
   "nbconvert_exporter": "python",
   "pygments_lexer": "ipython3",
   "version": "3.8.5"
  }
 },
 "nbformat": 4,
 "nbformat_minor": 4
}
