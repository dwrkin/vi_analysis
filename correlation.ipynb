{
 "cells": [
  {
   "cell_type": "code",
   "execution_count": 1,
   "metadata": {},
   "outputs": [],
   "source": [
    "import pandas as pd\n",
    "import numpy as np\n",
    "import seaborn as sns\n",
    "import matplotlib.pyplot as plt\n",
    "from scipy import stats\n",
    "from scipy.stats import spearmanr"
   ]
  },
  {
   "cell_type": "code",
   "execution_count": 9,
   "metadata": {},
   "outputs": [
    {
     "name": "stdout",
     "output_type": "stream",
     "text": [
      "<class 'pandas.core.frame.DataFrame'>\n",
      "Int64Index: 1908 entries, 59086 to 656177\n",
      "Data columns (total 13 columns):\n",
      " #   Column        Non-Null Count  Dtype \n",
      "---  ------        --------------  ----- \n",
      " 0   Гражд         1908 non-null   object\n",
      " 1   Группа        1908 non-null   object\n",
      " 2   Сумма баллов  1908 non-null   int32 \n",
      " 3   Б.1.Д         1908 non-null   object\n",
      " 4   Б.1.И         1908 non-null   object\n",
      " 5   Б.1           1908 non-null   int32 \n",
      " 6   Б.2.Д         1908 non-null   object\n",
      " 7   Б.2.И         1908 non-null   object\n",
      " 8   Б.2           1908 non-null   int32 \n",
      " 9   Б.3.Д         1908 non-null   object\n",
      " 10  Б.3.И         1908 non-null   object\n",
      " 11  Б.3           1908 non-null   int32 \n",
      " 12  ИД            1908 non-null   int32 \n",
      "dtypes: int32(5), object(8)\n",
      "memory usage: 171.4+ KB\n"
     ]
    }
   ],
   "source": [
    "# Предобработка датасета с данными поступивших в 2023\n",
    "df_ege_raw = pd.read_excel(\"БаллЗачисл2023.xlsx\", usecols=['L_ID', 'Сумма баллов', 'Б.1.И', 'Гражд','Группа', 'Б.1.Д', 'Б.1', 'Б.2.И', 'Б.2.Д', 'Б.2', 'Б.3.Д', 'Б.3.И', 'Б.3',\t'ИД'], index_col=0)\n",
    "df_ege_raw = df_ege_raw[df_ege_raw['Сумма баллов'] != 'н/с']\n",
    "df_ege_raw = df_ege_raw[df_ege_raw['Сумма баллов'] != 'н/р']\n",
    "df_ege_raw = df_ege_raw[df_ege_raw['Б.1'].notna()]\n",
    "df_ege_raw['Сумма баллов'] = df_ege_raw['Сумма баллов'].astype(str).astype(int)\n",
    "df_ege_raw['Б.1'] = df_ege_raw['Б.1'].astype(str).astype(int)\n",
    "df_ege_raw['Б.2'] = df_ege_raw['Б.2'].astype(str).astype(int)\n",
    "df_ege_raw['Б.3'] = df_ege_raw['Б.3'].astype(float).astype(int)\n",
    "df_ege_raw['ИД'] = df_ege_raw['ИД'].fillna(0)\n",
    "df_ege_raw['ИД'] = df_ege_raw['ИД'].astype(float).astype(int)\n",
    "df_ege_raw.info()"
   ]
  },
  {
   "cell_type": "code",
   "execution_count": null,
   "metadata": {},
   "outputs": [],
   "source": []
  }
 ],
 "metadata": {
  "kernelspec": {
   "display_name": "Python 3.11.5 ('base')",
   "language": "python",
   "name": "python3"
  },
  "language_info": {
   "codemirror_mode": {
    "name": "ipython",
    "version": 3
   },
   "file_extension": ".py",
   "mimetype": "text/x-python",
   "name": "python",
   "nbconvert_exporter": "python",
   "pygments_lexer": "ipython3",
   "version": "3.11.5"
  },
  "orig_nbformat": 4,
  "vscode": {
   "interpreter": {
    "hash": "29df45c0630be6998bd6859d1c11360436602068b14ccc3a1231a3420f18c4a1"
   }
  }
 },
 "nbformat": 4,
 "nbformat_minor": 2
}
