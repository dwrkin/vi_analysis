{
 "cells": [
  {
   "cell_type": "code",
   "execution_count": 1,
   "metadata": {},
   "outputs": [],
   "source": [
    "import pandas as pd\n",
    "import numpy as np\n",
    "import seaborn as sns\n",
    "import matplotlib.pyplot as plt\n",
    "from scipy import stats\n",
    "from scipy.stats import spearmanr"
   ]
  },
  {
   "cell_type": "code",
   "execution_count": 40,
   "metadata": {},
   "outputs": [
    {
     "name": "stdout",
     "output_type": "stream",
     "text": [
      "<class 'pandas.core.frame.DataFrame'>\n",
      "Int64Index: 1908 entries, 0 to 1918\n",
      "Data columns (total 12 columns):\n",
      " #   Column  Non-Null Count  Dtype \n",
      "---  ------  --------------  ----- \n",
      " 0   L_ID    1908 non-null   int32 \n",
      " 1   Б.1     1908 non-null   int32 \n",
      " 2   Б.1.Д   1908 non-null   object\n",
      " 3   Б.1.И   1908 non-null   object\n",
      " 4   Б.2     1908 non-null   int32 \n",
      " 5   Б.2.Д   1908 non-null   object\n",
      " 6   Б.2.И   1908 non-null   object\n",
      " 7   Б.3     1908 non-null   int32 \n",
      " 8   Б.3.Д   1908 non-null   object\n",
      " 9   Б.3.И   1908 non-null   object\n",
      " 10  ИД      1908 non-null   int32 \n",
      " 11  Год     1908 non-null   int32 \n",
      "dtypes: int32(6), object(6)\n",
      "memory usage: 149.1+ KB\n"
     ]
    }
   ],
   "source": [
    "# Предобработка датасета с данными поступивших в 2023\n",
    "df_ege_raw = pd.read_excel(\"БаллЗачисл2023.xlsx\", usecols=['L_ID', 'Б.1', 'Б.1.Д', 'Б.1.И', 'Б.2', 'Б.2.Д', 'Б.2.И', 'Б.3', 'Б.3.Д', 'Б.3.И', 'ИД'])\n",
    "df_ege_raw = df_ege_raw[~(df_ege_raw['Б.1'].isin(['н/с', 'н/р'])) & (df_ege_raw['Б.1'].notna())]\n",
    "df_ege_raw = df_ege_raw[~(df_ege_raw['Б.2'].isin(['н/с', 'н/р'])) & (df_ege_raw['Б.1'].notna())]\n",
    "df_ege_raw = df_ege_raw[~(df_ege_raw['Б.3'].isin(['н/с', 'н/р'])) & (df_ege_raw['Б.1'].notna())]\n",
    "df_ege_raw['Б.1'] = df_ege_raw['Б.1'].astype(str).astype(int)\n",
    "df_ege_raw['Б.2'] = df_ege_raw['Б.2'].astype(str).astype(int)\n",
    "df_ege_raw['Б.3'] = df_ege_raw['Б.3'].astype(float).astype(int)\n",
    "df_ege_raw['ИД'] = df_ege_raw['ИД'].fillna(0)\n",
    "df_ege_raw['ИД'] = df_ege_raw['ИД'].astype(float).astype(int)\n",
    "df_ege_raw['Год'] = 2023\n",
    "df_ege_raw['Год'] = df_ege_raw['Год'].astype(int)\n",
    "df_ege_raw['L_ID'] = df_ege_raw['L_ID'].astype(int)\n",
    "df_ege_raw = df_ege_raw.reindex(columns=['L_ID', 'Б.1', 'Б.1.Д', 'Б.1.И', 'Б.2', 'Б.2.Д', 'Б.2.И', 'Б.3', 'Б.3.Д', 'Б.3.И', 'ИД', 'Год'])\n",
    "df_ege_raw.info()"
   ]
  },
  {
   "cell_type": "code",
   "execution_count": 54,
   "metadata": {},
   "outputs": [
    {
     "name": "stdout",
     "output_type": "stream",
     "text": [
      "<class 'pandas.core.frame.DataFrame'>\n",
      "RangeIndex: 7299 entries, 0 to 7298\n",
      "Data columns (total 12 columns):\n",
      " #   Column  Non-Null Count  Dtype \n",
      "---  ------  --------------  ----- \n",
      " 0   L_ID    7299 non-null   int32 \n",
      " 1   Б.1     7299 non-null   int32 \n",
      " 2   Б.1.Д   7299 non-null   object\n",
      " 3   Б.1.И   7299 non-null   object\n",
      " 4   Б.2     7299 non-null   int32 \n",
      " 5   Б.2.Д   7299 non-null   object\n",
      " 6   Б.2.И   7299 non-null   object\n",
      " 7   Б.3     7299 non-null   int32 \n",
      " 8   Б.3.Д   7299 non-null   object\n",
      " 9   Б.3.И   7299 non-null   object\n",
      " 10  ИД      7299 non-null   int32 \n",
      " 11  Год     7299 non-null   int32 \n",
      "dtypes: int32(6), object(6)\n",
      "memory usage: 513.3+ KB\n"
     ]
    }
   ],
   "source": [
    "# Предобработка датасета с данными поступивших в 2019-2022\n",
    "raw_df_2019_2022 = pd.read_excel('data1.xlsx', usecols=['L_ID', 'B1', 'B1_D', 'B1_T', 'B2', 'B2_D', 'B2_T', 'B3', 'B3_D', 'B3_T', 'ИД', 'Год'])\n",
    "raw_df_2019_2022 = raw_df_2019_2022.reindex(columns=['L_ID', 'B1', 'B1_D', 'B1_T', 'B2', 'B2_D', 'B2_T', 'B3', 'B3_D', 'B3_T', 'ИД', 'Год'])\n",
    "raw_df_2019_2022['ИД'] = raw_df_2019_2022['ИД'].fillna(0)\n",
    "raw_df_2019_2022[['L_ID', 'B1', 'B2', 'B3','ИД', 'Год']] = raw_df_2019_2022[['L_ID', 'B1', 'B2', 'B3','ИД', 'Год']].astype('int')\n",
    "raw_df_2019_2022[['B1_D', 'B1_T', 'B2_D', 'B2_T', 'B3_D', 'B3_T']] = raw_df_2019_2022[['B1_D', 'B1_T', 'B2_D', 'B2_T', 'B3_D', 'B3_T']].astype('str')\n",
    "raw_df_2019_2022.columns = ['L_ID', 'Б.1', 'Б.1.Д', 'Б.1.И', 'Б.2', 'Б.2.Д', 'Б.2.И', 'Б.3', 'Б.3.Д', 'Б.3.И', 'ИД', 'Год']\n",
    "raw_df_2019_2022.info()"
   ]
  },
  {
   "cell_type": "code",
   "execution_count": 65,
   "metadata": {},
   "outputs": [
    {
     "name": "stdout",
     "output_type": "stream",
     "text": [
      "<class 'pandas.core.frame.DataFrame'>\n",
      "RangeIndex: 9207 entries, 0 to 9206\n",
      "Data columns (total 12 columns):\n",
      " #   Column  Non-Null Count  Dtype \n",
      "---  ------  --------------  ----- \n",
      " 0   L_ID    9207 non-null   int32 \n",
      " 1   Б.1     9207 non-null   int32 \n",
      " 2   Б.1.Д   9207 non-null   object\n",
      " 3   Б.1.И   9207 non-null   object\n",
      " 4   Б.2     9207 non-null   int32 \n",
      " 5   Б.2.Д   9207 non-null   object\n",
      " 6   Б.2.И   9207 non-null   object\n",
      " 7   Б.3     9207 non-null   int32 \n",
      " 8   Б.3.Д   9207 non-null   object\n",
      " 9   Б.3.И   9207 non-null   object\n",
      " 10  ИД      9207 non-null   int32 \n",
      " 11  Год     9207 non-null   int32 \n",
      "dtypes: int32(6), object(6)\n",
      "memory usage: 647.5+ KB\n"
     ]
    }
   ],
   "source": [
    "#UNION 2019-2022 и 2023\n",
    "df_ege_raw_2019_23 = pd.concat([df_ege_raw, raw_df_2019_2022], ignore_index=True)\n",
    "df_ege_raw_2019_23.info()"
   ]
  }
 ],
 "metadata": {
  "kernelspec": {
   "display_name": "Python 3.11.5 ('base')",
   "language": "python",
   "name": "python3"
  },
  "language_info": {
   "codemirror_mode": {
    "name": "ipython",
    "version": 3
   },
   "file_extension": ".py",
   "mimetype": "text/x-python",
   "name": "python",
   "nbconvert_exporter": "python",
   "pygments_lexer": "ipython3",
   "version": "3.11.5"
  },
  "orig_nbformat": 4,
  "vscode": {
   "interpreter": {
    "hash": "29df45c0630be6998bd6859d1c11360436602068b14ccc3a1231a3420f18c4a1"
   }
  }
 },
 "nbformat": 4,
 "nbformat_minor": 2
}
