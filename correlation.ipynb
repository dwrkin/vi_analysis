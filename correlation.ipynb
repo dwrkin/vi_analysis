{
 "cells": [
  {
   "cell_type": "code",
   "execution_count": null,
   "metadata": {},
   "outputs": [],
   "source": [
    "import pandas as pd\n",
    "import numpy as np\n",
    "import seaborn as sns\n",
    "import matplotlib.pyplot as plt\n",
    "from scipy import stats\n",
    "from scipy.stats import spearmanr"
   ]
  },
  {
   "cell_type": "code",
   "execution_count": null,
   "metadata": {},
   "outputs": [
    {
     "name": "stdout",
     "output_type": "stream",
     "text": [
      "<class 'pandas.core.frame.DataFrame'>\n",
      "Int64Index: 1908 entries, 0 to 1918\n",
      "Data columns (total 12 columns):\n",
      " #   Column  Non-Null Count  Dtype \n",
      "---  ------  --------------  ----- \n",
      " 0   L_ID    1908 non-null   int32 \n",
      " 1   Б.1     1908 non-null   int32 \n",
      " 2   Б.1.Д   1908 non-null   object\n",
      " 3   Б.1.И   1908 non-null   object\n",
      " 4   Б.2     1908 non-null   int32 \n",
      " 5   Б.2.Д   1908 non-null   object\n",
      " 6   Б.2.И   1908 non-null   object\n",
      " 7   Б.3     1908 non-null   int32 \n",
      " 8   Б.3.Д   1908 non-null   object\n",
      " 9   Б.3.И   1908 non-null   object\n",
      " 10  ИД      1908 non-null   int32 \n",
      " 11  Год     1908 non-null   int32 \n",
      "dtypes: int32(6), object(6)\n",
      "memory usage: 149.1+ KB\n"
     ]
    }
   ],
   "source": [
    "# Предобработка датасета с данными поступивших в 2023\n",
    "df_ege_raw = pd.read_excel(\"БаллЗачисл2023.xlsx\", usecols=['L_ID', 'Б.1', 'Б.1.Д', 'Б.1.И', 'Б.2', 'Б.2.Д', 'Б.2.И', 'Б.3', 'Б.3.Д', 'Б.3.И', 'ИД'])\n",
    "df_ege_raw = df_ege_raw[~(df_ege_raw['Б.1'].isin(['н/с', 'н/р'])) & (df_ege_raw['Б.1'].notna())]\n",
    "df_ege_raw = df_ege_raw[~(df_ege_raw['Б.2'].isin(['н/с', 'н/р'])) & (df_ege_raw['Б.1'].notna())]\n",
    "df_ege_raw = df_ege_raw[~(df_ege_raw['Б.3'].isin(['н/с', 'н/р'])) & (df_ege_raw['Б.1'].notna())]\n",
    "df_ege_raw['Б.1'] = df_ege_raw['Б.1'].astype(str).astype(int)\n",
    "df_ege_raw['Б.2'] = df_ege_raw['Б.2'].astype(str).astype(int)\n",
    "df_ege_raw['Б.3'] = df_ege_raw['Б.3'].astype(float).astype(int)\n",
    "df_ege_raw['ИД'] = df_ege_raw['ИД'].fillna(0)\n",
    "df_ege_raw['ИД'] = df_ege_raw['ИД'].astype(float).astype(int)\n",
    "df_ege_raw['Год'] = 2023\n",
    "df_ege_raw['Год'] = df_ege_raw['Год'].astype(int)\n",
    "df_ege_raw['L_ID'] = df_ege_raw['L_ID'].astype(int)\n",
    "df_ege_raw = df_ege_raw.reindex(columns=['L_ID', 'Б.1', 'Б.1.Д', 'Б.1.И', 'Б.2', 'Б.2.Д', 'Б.2.И', 'Б.3', 'Б.3.Д', 'Б.3.И', 'ИД', 'Год'])\n",
    "df_ege_raw.info()"
   ]
  },
  {
   "cell_type": "code",
   "execution_count": null,
   "metadata": {},
   "outputs": [
    {
     "name": "stdout",
     "output_type": "stream",
     "text": [
      "<class 'pandas.core.frame.DataFrame'>\n",
      "RangeIndex: 7299 entries, 0 to 7298\n",
      "Data columns (total 12 columns):\n",
      " #   Column  Non-Null Count  Dtype \n",
      "---  ------  --------------  ----- \n",
      " 0   L_ID    7299 non-null   int32 \n",
      " 1   Б.1     7299 non-null   int32 \n",
      " 2   Б.1.Д   7299 non-null   object\n",
      " 3   Б.1.И   7299 non-null   object\n",
      " 4   Б.2     7299 non-null   int32 \n",
      " 5   Б.2.Д   7299 non-null   object\n",
      " 6   Б.2.И   7299 non-null   object\n",
      " 7   Б.3     7299 non-null   int32 \n",
      " 8   Б.3.Д   7299 non-null   object\n",
      " 9   Б.3.И   7299 non-null   object\n",
      " 10  ИД      7299 non-null   int32 \n",
      " 11  Год     7299 non-null   int32 \n",
      "dtypes: int32(6), object(6)\n",
      "memory usage: 513.3+ KB\n"
     ]
    }
   ],
   "source": [
    "# Предобработка датасета с данными поступивших в 2019-2022\n",
    "raw_df_2019_2022 = pd.read_excel('data1.xlsx', usecols=['L_ID', 'B1', 'B1_D', 'B1_T', 'B2', 'B2_D', 'B2_T', 'B3', 'B3_D', 'B3_T', 'ИД', 'Год'])\n",
    "raw_df_2019_2022 = raw_df_2019_2022.reindex(columns=['L_ID', 'B1', 'B1_D', 'B1_T', 'B2', 'B2_D', 'B2_T', 'B3', 'B3_D', 'B3_T', 'ИД', 'Год'])\n",
    "raw_df_2019_2022['ИД'] = raw_df_2019_2022['ИД'].fillna(0)\n",
    "raw_df_2019_2022[['L_ID', 'B1', 'B2', 'B3','ИД', 'Год']] = raw_df_2019_2022[['L_ID', 'B1', 'B2', 'B3','ИД', 'Год']].astype('int')\n",
    "raw_df_2019_2022[['B1_D', 'B1_T', 'B2_D', 'B2_T', 'B3_D', 'B3_T']] = raw_df_2019_2022[['B1_D', 'B1_T', 'B2_D', 'B2_T', 'B3_D', 'B3_T']].astype('str')\n",
    "raw_df_2019_2022.columns = ['L_ID', 'Б.1', 'Б.1.Д', 'Б.1.И', 'Б.2', 'Б.2.Д', 'Б.2.И', 'Б.3', 'Б.3.Д', 'Б.3.И', 'ИД', 'Год']\n",
    "raw_df_2019_2022.info()"
   ]
  },
  {
   "cell_type": "code",
   "execution_count": null,
   "metadata": {},
   "outputs": [
    {
     "name": "stdout",
     "output_type": "stream",
     "text": [
      "<class 'pandas.core.frame.DataFrame'>\n",
      "RangeIndex: 9207 entries, 0 to 9206\n",
      "Data columns (total 12 columns):\n",
      " #   Column  Non-Null Count  Dtype \n",
      "---  ------  --------------  ----- \n",
      " 0   L_ID    9207 non-null   int32 \n",
      " 1   Б.1     9207 non-null   int32 \n",
      " 2   Б.1.Д   9207 non-null   object\n",
      " 3   Б.1.И   9207 non-null   object\n",
      " 4   Б.2     9207 non-null   int32 \n",
      " 5   Б.2.Д   9207 non-null   object\n",
      " 6   Б.2.И   9207 non-null   object\n",
      " 7   Б.3     9207 non-null   int32 \n",
      " 8   Б.3.Д   9207 non-null   object\n",
      " 9   Б.3.И   9207 non-null   object\n",
      " 10  ИД      9207 non-null   int32 \n",
      " 11  Год     9207 non-null   int32 \n",
      "dtypes: int32(6), object(6)\n",
      "memory usage: 647.5+ KB\n"
     ]
    }
   ],
   "source": [
    "#UNION 2019-2022 и 2023\n",
    "df_ege_raw_2019_23 = pd.concat([df_ege_raw, raw_df_2019_2022], ignore_index=True)\n",
    "df_ege_raw_2019_23.info()"
   ]
  },
  {
   "cell_type": "code",
   "execution_count": 16,
   "metadata": {},
   "outputs": [],
   "source": [
    "df_uspev_22_raw = pd.read_excel(\"_10_22.xlsx\", usecols='E, G, K, L, S, AA, AC, AG')"
   ]
  },
  {
   "cell_type": "code",
   "execution_count": 17,
   "metadata": {},
   "outputs": [],
   "source": [
    "df_uspev_23_raw = pd.read_excel(\"_10_23.xlsx\", usecols='E, G, K, L, S, AA, AC, AG')"
   ]
  },
  {
   "cell_type": "code",
   "execution_count": 18,
   "metadata": {},
   "outputs": [],
   "source": [
    "df_uspev_22_23_raw = pd.concat([df_uspev_22_raw, df_uspev_23_raw])"
   ]
  },
  {
   "cell_type": "code",
   "execution_count": 21,
   "metadata": {},
   "outputs": [],
   "source": [
    "df_uspev_22_23_raw = df_uspev_22_23_raw[['GOD_NABORA', 'SEMESTER', 'VID_ATT_ID', 'LICHNOST_ID','DISCIPLINA_ID', 'BALL', 'TYPE_ID', 'STUDY_FORM_ID']].fillna(0)"
   ]
  },
  {
   "cell_type": "code",
   "execution_count": 23,
   "metadata": {},
   "outputs": [],
   "source": [
    "df_uspev_22_23_raw = df_uspev_22_23_raw[['GOD_NABORA', 'SEMESTER', 'VID_ATT_ID', 'LICHNOST_ID','DISCIPLINA_ID', 'BALL', 'TYPE_ID', 'STUDY_FORM_ID']].astype('int')"
   ]
  },
  {
   "cell_type": "code",
   "execution_count": 24,
   "metadata": {},
   "outputs": [
    {
     "name": "stdout",
     "output_type": "stream",
     "text": [
      "<class 'pandas.core.frame.DataFrame'>\n",
      "Int64Index: 112627 entries, 0 to 81171\n",
      "Data columns (total 8 columns):\n",
      " #   Column         Non-Null Count   Dtype\n",
      "---  ------         --------------   -----\n",
      " 0   GOD_NABORA     112627 non-null  int32\n",
      " 1   SEMESTER       112627 non-null  int32\n",
      " 2   VID_ATT_ID     112627 non-null  int32\n",
      " 3   LICHNOST_ID    112627 non-null  int32\n",
      " 4   DISCIPLINA_ID  112627 non-null  int32\n",
      " 5   BALL           112627 non-null  int32\n",
      " 6   TYPE_ID        112627 non-null  int32\n",
      " 7   STUDY_FORM_ID  112627 non-null  int32\n",
      "dtypes: int32(8)\n",
      "memory usage: 4.3 MB\n"
     ]
    }
   ],
   "source": [
    "df_uspev_22_23_raw.info()"
   ]
  },
  {
   "cell_type": "code",
   "execution_count": 29,
   "metadata": {},
   "outputs": [],
   "source": [
    "df_vi_2021_22 = df_ege_raw_2019_23[df_ege_raw_2019_23['Год'].isin([2021, 2022])]"
   ]
  },
  {
   "cell_type": "code",
   "execution_count": 31,
   "metadata": {},
   "outputs": [
    {
     "name": "stderr",
     "output_type": "stream",
     "text": [
      "C:\\Users\\seismopro\\AppData\\Local\\Temp\\ipykernel_9680\\827326315.py:1: SettingWithCopyWarning: \n",
      "A value is trying to be set on a copy of a slice from a DataFrame.\n",
      "Try using .loc[row_indexer,col_indexer] = value instead\n",
      "\n",
      "See the caveats in the documentation: https://pandas.pydata.org/pandas-docs/stable/user_guide/indexing.html#returning-a-view-versus-a-copy\n",
      "  df_vi_2021_22['sum_ball_without_id'] = df_vi_2021_22['Б.1'] + df_vi_2021_22['Б.2'] + df_vi_2021_22['Б.2']\n"
     ]
    }
   ],
   "source": [
    "df_vi_2021_22['sum_ball_without_id'] = df_vi_2021_22['Б.1'] + df_vi_2021_22['Б.2'] + df_vi_2021_22['Б.2']"
   ]
  },
  {
   "cell_type": "code",
   "execution_count": 38,
   "metadata": {},
   "outputs": [
    {
     "data": {
      "text/html": [
       "<div>\n",
       "<style scoped>\n",
       "    .dataframe tbody tr th:only-of-type {\n",
       "        vertical-align: middle;\n",
       "    }\n",
       "\n",
       "    .dataframe tbody tr th {\n",
       "        vertical-align: top;\n",
       "    }\n",
       "\n",
       "    .dataframe thead th {\n",
       "        text-align: right;\n",
       "    }\n",
       "</style>\n",
       "<table border=\"1\" class=\"dataframe\">\n",
       "  <thead>\n",
       "    <tr style=\"text-align: right;\">\n",
       "      <th></th>\n",
       "      <th>Год</th>\n",
       "      <th>L_ID</th>\n",
       "      <th>sum_ball_without_id</th>\n",
       "    </tr>\n",
       "  </thead>\n",
       "  <tbody>\n",
       "    <tr>\n",
       "      <th>1913</th>\n",
       "      <td>2021</td>\n",
       "      <td>578542</td>\n",
       "      <td>287</td>\n",
       "    </tr>\n",
       "    <tr>\n",
       "      <th>1914</th>\n",
       "      <td>2022</td>\n",
       "      <td>581382</td>\n",
       "      <td>290</td>\n",
       "    </tr>\n",
       "    <tr>\n",
       "      <th>1915</th>\n",
       "      <td>2021</td>\n",
       "      <td>600242</td>\n",
       "      <td>275</td>\n",
       "    </tr>\n",
       "    <tr>\n",
       "      <th>1916</th>\n",
       "      <td>2022</td>\n",
       "      <td>553471</td>\n",
       "      <td>276</td>\n",
       "    </tr>\n",
       "    <tr>\n",
       "      <th>1918</th>\n",
       "      <td>2021</td>\n",
       "      <td>600243</td>\n",
       "      <td>270</td>\n",
       "    </tr>\n",
       "    <tr>\n",
       "      <th>...</th>\n",
       "      <td>...</td>\n",
       "      <td>...</td>\n",
       "      <td>...</td>\n",
       "    </tr>\n",
       "    <tr>\n",
       "      <th>9202</th>\n",
       "      <td>2022</td>\n",
       "      <td>611879</td>\n",
       "      <td>130</td>\n",
       "    </tr>\n",
       "    <tr>\n",
       "      <th>9203</th>\n",
       "      <td>2022</td>\n",
       "      <td>615131</td>\n",
       "      <td>123</td>\n",
       "    </tr>\n",
       "    <tr>\n",
       "      <th>9204</th>\n",
       "      <td>2022</td>\n",
       "      <td>629255</td>\n",
       "      <td>123</td>\n",
       "    </tr>\n",
       "    <tr>\n",
       "      <th>9205</th>\n",
       "      <td>2022</td>\n",
       "      <td>629319</td>\n",
       "      <td>123</td>\n",
       "    </tr>\n",
       "    <tr>\n",
       "      <th>9206</th>\n",
       "      <td>2022</td>\n",
       "      <td>629198</td>\n",
       "      <td>117</td>\n",
       "    </tr>\n",
       "  </tbody>\n",
       "</table>\n",
       "<p>4266 rows × 3 columns</p>\n",
       "</div>"
      ],
      "text/plain": [
       "       Год    L_ID  sum_ball_without_id\n",
       "1913  2021  578542                  287\n",
       "1914  2022  581382                  290\n",
       "1915  2021  600242                  275\n",
       "1916  2022  553471                  276\n",
       "1918  2021  600243                  270\n",
       "...    ...     ...                  ...\n",
       "9202  2022  611879                  130\n",
       "9203  2022  615131                  123\n",
       "9204  2022  629255                  123\n",
       "9205  2022  629319                  123\n",
       "9206  2022  629198                  117\n",
       "\n",
       "[4266 rows x 3 columns]"
      ]
     },
     "execution_count": 38,
     "metadata": {},
     "output_type": "execute_result"
    }
   ],
   "source": [
    "df_vi_2021_22_pivot = df_vi_2021_22[['Год', 'L_ID', 'sum_ball_without_id']]\n",
    "df_vi_2021_22_pivot"
   ]
  },
  {
   "cell_type": "code",
   "execution_count": null,
   "metadata": {},
   "outputs": [],
   "source": []
  }
 ],
 "metadata": {
  "kernelspec": {
   "display_name": "Python 3.11.5 ('base')",
   "language": "python",
   "name": "python3"
  },
  "language_info": {
   "codemirror_mode": {
    "name": "ipython",
    "version": 3
   },
   "file_extension": ".py",
   "mimetype": "text/x-python",
   "name": "python",
   "nbconvert_exporter": "python",
   "pygments_lexer": "ipython3",
   "version": "3.11.5"
  },
  "orig_nbformat": 4,
  "vscode": {
   "interpreter": {
    "hash": "29df45c0630be6998bd6859d1c11360436602068b14ccc3a1231a3420f18c4a1"
   }
  }
 },
 "nbformat": 4,
 "nbformat_minor": 2
}
